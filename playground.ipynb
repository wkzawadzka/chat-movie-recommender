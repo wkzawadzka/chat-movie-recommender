{
 "cells": [
  {
   "cell_type": "code",
   "execution_count": 3,
   "metadata": {},
   "outputs": [],
   "source": [
    "#from django.db import models\n",
    "import os\n",
    "import pandas as pd\n",
    "import numpy as np\n",
    "import re\n",
    "from tqdm import tqdm"
   ]
  },
  {
   "cell_type": "code",
   "execution_count": 4,
   "metadata": {},
   "outputs": [],
   "source": [
    "class Strategries():\n",
    "\n",
    "    def bert():\n",
    "        ..."
   ]
  },
  {
   "cell_type": "code",
   "execution_count": 5,
   "metadata": {},
   "outputs": [
    {
     "name": "stdout",
     "output_type": "stream",
     "text": [
      "   movieID                               title  \\\n",
      "0        1                    Toy Story (1995)   \n",
      "1        2                      Jumanji (1995)   \n",
      "2        3             Grumpier Old Men (1995)   \n",
      "3        4            Waiting to Exhale (1995)   \n",
      "4        5  Father of the Bride Part II (1995)   \n",
      "\n",
      "                                            overview  \n",
      "0  Led by Woody, Andy's toys live happily in his ...  \n",
      "1  When siblings Judy and Peter discover an encha...  \n",
      "2  A family wedding reignites the ancient feud be...  \n",
      "3  Cheated on, mistreated and stepped on, the wom...  \n",
      "4  Just when George Banks has recovered from his ...  \n"
     ]
    }
   ],
   "source": [
    "PLOTS_DATA = os.path.join(\"backend-django\", \"data\", \"movies.csv\")\n",
    "# overviews\n",
    "plots = pd.read_csv(PLOTS_DATA).dropna()\n",
    "print(plots.head())"
   ]
  },
  {
   "cell_type": "code",
   "execution_count": 6,
   "metadata": {},
   "outputs": [
    {
     "name": "stderr",
     "output_type": "stream",
     "text": [
      "[nltk_data] Downloading package stopwords to\n",
      "[nltk_data]     C:\\Users\\legion\\AppData\\Roaming\\nltk_data...\n",
      "[nltk_data]   Unzipping corpora\\stopwords.zip.\n"
     ]
    },
    {
     "data": {
      "text/plain": [
       "True"
      ]
     },
     "execution_count": 6,
     "metadata": {},
     "output_type": "execute_result"
    }
   ],
   "source": [
    "import nltk\n",
    "nltk.download('stopwords')"
   ]
  },
  {
   "cell_type": "code",
   "execution_count": 7,
   "metadata": {},
   "outputs": [],
   "source": [
    "#!python -m spacy download en_core_web_sm\n",
    "\n",
    "import nltk\n",
    "from nltk.corpus import stopwords\n",
    "import spacy\n",
    "nlp = spacy.load('en_core_web_sm')\n",
    "stop_words = set(stopwords.words('english'))"
   ]
  },
  {
   "cell_type": "code",
   "execution_count": 39,
   "metadata": {},
   "outputs": [
    {
     "name": "stdout",
     "output_type": "stream",
     "text": [
      "Getting bert embeddings...\n",
      "Done\n"
     ]
    }
   ],
   "source": [
    "import numpy as np\n",
    "from sklearn.metrics.pairwise import cosine_similarity\n",
    "import pandas as pd\n",
    "from transformers import DistilBertTokenizer, DistilBertModel\n",
    "import warnings\n",
    "warnings.filterwarnings('ignore')\n",
    "from typing import List\n",
    "import torch\n",
    "\n",
    "class BERT_strategy:\n",
    "    ''' Movie recommendation strategy based on BERT model - High-performance semantic similarity\n",
    "    Works by finding similarities between movies' overviews:\n",
    "        (1) creating tokens out of each overviews\n",
    "        (2) sending tokanized overviews though BERT model\n",
    "        (3) choice of recommendation according to cosine similarity score between model outputs\n",
    "    '''\n",
    "    def __init__(self, movies: pd.DataFrame, cache_dir: str = './data/') -> None:\n",
    "        # ensure cache dir exists\n",
    "        self.cache_dir = cache_dir\n",
    "        os.makedirs(self.cache_dir, exist_ok=True)\n",
    "\n",
    "        self.model = DistilBertModel.from_pretrained(\"distilbert-base-uncased\", cache_dir=self.cache_dir)\n",
    "        self.tokenizer = DistilBertTokenizer.from_pretrained('distilbert-base-uncased', cache_dir=self.cache_dir)\n",
    "        if self.tokenizer.pad_token is None:\n",
    "            # add tokenizer\n",
    "            self.tokenizer.add_special_tokens({'pad_token': 'EOS'}) # end of sentence token\n",
    "            self.model.resize_token_embeddings(len(self.tokenizer))\n",
    "        self.df = movies\n",
    "        self.overviews = [self.preprocess_string(str(a)) for a in self.df['overview'].values.tolist()]\n",
    "        \n",
    "        print(\"Getting bert embeddings...\")\n",
    "        embeddings_path = os.path.join(self.cache_dir, 'overviews_embeddings.pt')\n",
    "        if not os.path.exists(embeddings_path):\n",
    "            self.overviews_embeddings = self.model_outputs(self.overviews)\n",
    "            torch.save(self.overviews_embeddings, embeddings_path)\n",
    "        else:\n",
    "            self.overviews_embeddings = torch.load(embeddings_path)\n",
    "        print(\"Done\")\n",
    "            \n",
    "    def preprocess_string(self, text: str):\n",
    "        doc = nlp(text)\n",
    "        cleaned_text = ' '.join([token.lemma_ for token in doc if token.text.lower() not in stop_words and token.is_alpha])\n",
    "        \n",
    "        return cleaned_text\n",
    "\n",
    "    def model_outputs(self, items: List[str], batch_size: int = 64):\n",
    "        all_outputs = []\n",
    "        num_batches = len(items) // batch_size + (len(items) % batch_size != 0)\n",
    "        \n",
    "        for i in tqdm(range(0, len(items), batch_size), desc=\"Progress\", total=num_batches):\n",
    "            batch_items = items[i:i+batch_size]\n",
    "            inputs = self.tokenizer(batch_items, add_special_tokens=True, padding=True, max_length=100, truncation=True, return_tensors=\"pt\")\n",
    "\n",
    "            with torch.no_grad():\n",
    "                outputs = self.model(**inputs).last_hidden_state[:, 0, :].numpy()  # [batch, maxlen, hidden_state] -> using only [batch, hidden_state]\n",
    "                all_outputs.append(outputs)\n",
    "        \n",
    "        return np.concatenate(all_outputs, axis=0)\n",
    "\n",
    "    def recommend(self, query: str, k: int = 5):\n",
    "        '''         \n",
    "        @inputs\n",
    "            query: string, description of movie you seek for\n",
    "        @outputs\n",
    "            recommendation: list of top k movies with highest similarity score\n",
    "        '''\n",
    "        query_embedding = self.model_outputs([self.preprocess_string(query)])\n",
    "        print(query_embedding)\n",
    "        sim = cosine_similarity(query_embedding, self.overviews_embeddings)[0]\n",
    "\n",
    "        movie_ids = self.df['movieID'].values.tolist()\n",
    "        top_k_indicies = sim.argsort()[-k:][::-1].tolist()\n",
    "\n",
    "        return [movie_ids[i] for i in top_k_indicies]\n",
    "    \n",
    "bert = BERT_strategy(plots)"
   ]
  },
  {
   "cell_type": "code",
   "execution_count": 40,
   "metadata": {},
   "outputs": [
    {
     "name": "stderr",
     "output_type": "stream",
     "text": [
      "Progress: 100%|██████████| 1/1 [00:00<00:00, 27.75it/s]"
     ]
    },
    {
     "name": "stdout",
     "output_type": "stream",
     "text": [
      "[[-2.66157717e-01 -1.41092166e-01  1.75003037e-02 -8.98907408e-02\n",
      "   1.70342714e-01 -1.92662049e-02  8.04049730e-01 -2.04639230e-03\n",
      "   1.56170046e-02 -3.04371029e-01  2.58200467e-01 -4.01669174e-01\n",
      "   2.69036852e-02  6.81553781e-01 -1.51997834e-01  1.86904907e-01\n",
      "   3.67965311e-01  1.92120612e-01  3.35135937e-01 -5.15100099e-02\n",
      "   4.20797229e-01 -5.63268244e-01  3.49920243e-01  2.25656331e-01\n",
      "   1.24935448e-01 -2.20034793e-02 -2.42146164e-01  1.92668229e-01\n",
      "   5.86223677e-02  2.04392001e-01  1.46270573e-01 -1.19263001e-01\n",
      "   1.58734433e-02 -4.58267212e-01  2.57323503e-01 -1.71047673e-02\n",
      "   1.46093577e-01  9.17640552e-02 -8.81221443e-02  3.11756581e-01\n",
      "  -2.20554739e-01 -9.75680500e-02  1.17772534e-01 -9.83754620e-02\n",
      "   2.02146694e-01 -5.59600115e-01 -2.24485135e+00 -3.74289125e-01\n",
      "  -1.01840019e-01 -3.40554953e-01  3.56394351e-01 -8.55824277e-02\n",
      "  -3.30474228e-04 -2.50966340e-01  1.89764097e-01  7.97038078e-01\n",
      "  -7.32346326e-02  9.38795730e-02 -1.49005398e-01  2.49224797e-01\n",
      "   3.83699596e-01  5.02321422e-02 -3.38854790e-01 -1.50710866e-01\n",
      "  -2.30280057e-01 -2.64087226e-02 -2.24060178e-01  1.53752357e-01\n",
      "  -3.30008268e-01  4.49926317e-01 -2.10544094e-01 -5.29884771e-02\n",
      "   2.40123183e-01  3.11260521e-01 -3.96098852e-01 -2.68627107e-01\n",
      "  -3.03398937e-01  1.71431884e-01  8.06461275e-02 -4.86557484e-01\n",
      "  -1.87109143e-01  2.74525225e-01 -9.77110118e-04  3.58412385e-01\n",
      "   3.96716714e-01  1.56602859e-01 -2.66088486e-01 -1.94439366e-01\n",
      "  -1.59459263e-01  6.96576118e-01 -1.86649561e-02 -9.98184830e-02\n",
      "  -5.60449958e-02  4.68306035e-01  3.44030261e-02  1.84445083e-02\n",
      "  -5.31615317e-03  5.20964414e-02  2.99844146e-01  4.75940883e-01\n",
      "   4.14746404e-01  1.13023937e-01 -1.26589507e-01 -4.14234787e-01\n",
      "   3.33633751e-01  5.44704869e-02 -2.53121220e-02  3.39249596e-02\n",
      "   2.88102962e-02 -1.44449425e+00  1.13404170e-02  4.81498316e-02\n",
      "  -2.69600004e-01 -3.34489882e-01 -4.36921060e-01 -7.17135146e-04\n",
      "   2.99079627e-01  1.69113785e-01 -1.89790763e-02  4.52985726e-02\n",
      "  -3.16516981e-02  3.43475342e-02 -2.26351887e-01  9.60970521e-01\n",
      "  -1.41132206e-01  3.94809902e-01 -4.25584912e-01 -3.77303213e-01\n",
      "   4.43751693e-01  5.11747658e-01  3.96978781e-02  5.20189404e-01\n",
      "  -3.07167768e-01 -2.76797324e-01 -2.84045756e-01  3.99868548e-01\n",
      "   2.58656204e-01 -1.23364225e-01 -4.62871850e-01 -2.01350689e-01\n",
      "  -5.07042110e-01 -3.55193466e-01 -1.45774472e+00  4.04688716e-01\n",
      "   6.10488296e-01  1.69163942e-01 -6.95724338e-02  4.32755053e-02\n",
      "  -1.88309491e-01  1.20674632e-01 -1.45174384e-01 -2.30887398e-01\n",
      "  -5.90005815e-01 -2.84441948e-01 -2.74101973e-01  1.33744985e-01\n",
      "  -2.17084885e-01  1.12525031e-01  1.02693252e-01  6.54142439e-01\n",
      "   3.73692751e-01  2.09808648e-02 -2.76486874e-01  2.03413162e-02\n",
      "   5.72902821e-02  3.06182176e-01  3.17350447e-01 -2.41598591e-01\n",
      "   1.67384416e-01 -5.56007251e-02 -1.87460452e-01  3.65176052e-01\n",
      "   4.45901811e-01 -1.21656828e-01  3.56263250e-01  1.05456468e-02\n",
      "  -2.66900480e-01  3.32199216e-01 -6.32173061e-01 -3.74985516e-01\n",
      "  -1.33987457e-01  4.22274917e-01 -1.63771197e-01  8.31362084e-02\n",
      "   6.27262071e-02 -1.30780965e-01  2.06090286e-02  6.18494451e-02\n",
      "  -1.35306984e-01  2.45343801e-02 -7.22034350e-02 -1.13467783e-01\n",
      "   3.26025844e-01  4.01070714e-01  5.16842306e-01 -1.50512055e-01\n",
      "   4.35086340e-03 -5.38196623e-01 -5.86337522e-02  2.95386352e-02\n",
      "   2.18231723e-01  3.63779932e-01  2.35366616e-02  3.19659114e-01\n",
      "  -1.49512798e-01  2.70523000e+00 -7.34348744e-02  4.40595955e-01\n",
      "   1.79722190e-01  4.83509958e-01 -1.43700957e-01 -9.61589217e-02\n",
      "  -2.36780643e-01  1.84875220e-01  4.16122407e-01 -2.87468582e-01\n",
      "   4.78338413e-02 -1.80694357e-01  1.05472498e-01 -1.37678161e-03\n",
      "  -6.65041246e-03  2.65401192e-02 -4.28811640e-01  1.42479941e-01\n",
      "  -4.27884579e-01  5.18058896e-01 -3.62686902e-01 -1.08834863e-01\n",
      "  -4.52960283e-02 -1.20594764e+00  2.95016408e-01 -1.54806912e-01\n",
      "   2.97020003e-02  3.74307513e-01 -3.51644695e-01  1.39821276e-01\n",
      "  -6.16775267e-02 -2.76188344e-01 -2.01089770e-01 -4.77613777e-01\n",
      "  -2.52660066e-01  1.31250396e-01  4.42774922e-01 -7.00759366e-02\n",
      "   2.73535829e-02  1.32919699e-01  1.54478401e-01 -2.06416637e-01\n",
      "   1.36499330e-01 -1.77236393e-01 -8.84685814e-02 -1.82491452e-01\n",
      "   2.00258523e-01 -7.63384044e-01  6.33516431e-01 -2.34793752e-01\n",
      "   1.74349174e-01 -1.52578786e-01 -4.36565548e-01 -4.65281934e-01\n",
      "   1.18203685e-01 -6.90509081e-02  1.88973427e-01  4.33490202e-02\n",
      "  -5.21518230e-01 -1.97581604e-01 -1.36450142e-01 -1.11706279e-01\n",
      "   2.14673206e-01 -9.06905904e-03  1.33083805e-01 -3.40209335e-01\n",
      "  -2.78447628e-01 -1.43627739e+00  2.25682661e-01 -1.44905280e-02\n",
      "   2.78573900e-01 -4.85442951e-02  3.44811022e-01  1.01065576e-01\n",
      "   5.43580770e-01  1.19401604e-01 -1.47069231e-01  5.56737840e-01\n",
      "   9.45904255e-02  4.75096367e-02 -9.35566798e-02 -1.63518414e-01\n",
      "  -9.66354162e-02 -3.56207997e-01 -1.73003018e-01  2.40164638e-01\n",
      "  -1.37993827e-01  7.81873316e-02  4.77594174e-02 -3.31435829e-01\n",
      "   6.45775348e-03  2.63240397e-01  3.90261531e-01 -5.53752363e-01\n",
      "  -6.00760102e-01  3.98599744e-01 -2.14936540e-01  9.08419564e-02\n",
      "  -1.68836907e-01  2.21880421e-01 -1.32252619e-01 -1.87122419e-01\n",
      "  -4.11736107e+00  7.44288117e-02 -1.80200204e-01 -1.05580054e-01\n",
      "   1.92783803e-01  3.21444310e-03  4.49812323e-01  1.59127727e-01\n",
      "  -2.29257718e-01  8.26866180e-02  1.50483534e-01 -3.11060101e-01\n",
      "   5.76332331e-01 -2.65191853e-01 -4.31317277e-02  6.56561404e-02\n",
      "   5.67490637e-01 -4.05241162e-01  7.58619085e-02  4.28306937e-01\n",
      "  -2.89146006e-01 -6.24590695e-01  3.39905709e-01 -5.66175103e-01\n",
      "   2.49555901e-01  2.54653424e-01 -5.92977703e-01 -1.03447087e-01\n",
      "  -3.58027555e-02 -6.49569482e-02  3.54189277e-01 -3.24046582e-01\n",
      "  -4.25294228e-02 -9.25746635e-02 -2.89648980e-01  1.67212814e-01\n",
      "   3.16276811e-02  1.79065228e-01  3.27037007e-01  2.26418987e-01\n",
      "  -3.29253346e-01  4.69945259e-02 -4.79021221e-02  4.03182298e-01\n",
      "   1.35935295e+00 -1.68407843e-01  2.22676128e-01 -2.20889654e-02\n",
      "  -7.47574642e-02  2.74338454e-01  1.39135048e-01 -3.80109698e-01\n",
      "   7.44276106e-01 -1.94862694e-01  2.19676234e-02  1.22910552e-02\n",
      "   4.64386046e-01  3.13000202e-01 -6.34143531e-01 -3.97311389e-01\n",
      "   2.75311500e-01 -3.85015696e-01 -1.88089296e-01 -1.52346656e-01\n",
      "   4.35267568e-01 -6.73421860e-01  3.15804094e-01 -2.85905123e-01\n",
      "  -1.56053141e-01 -8.96429569e-02 -3.55817735e-01  3.38017583e-01\n",
      "   8.02569613e-02 -1.28162038e+00  1.88052692e-02  3.10446590e-01\n",
      "   8.47999081e-02  6.49442673e-02 -1.41754940e-01 -1.04353011e-01\n",
      "  -1.96750090e-01  1.52861625e-01 -3.64858866e-01  1.97075665e-01\n",
      "  -1.52635366e-01  1.50315121e-01  1.55853271e-01  1.23760976e-01\n",
      "  -6.61283910e-01 -1.52442485e-01 -1.56167746e-01  2.78646886e-01\n",
      "   2.26986498e-01  2.73455590e-01  2.28169158e-01 -1.00367866e-01\n",
      "   5.05043149e-01 -6.18290961e-01  3.15149099e-01 -3.50802630e-01\n",
      "  -3.79577875e-02  5.38148209e-02 -1.32937551e-01 -2.34131515e-01\n",
      "  -4.77286354e-02 -4.73472148e-01  2.94127166e-02  2.75686264e-01\n",
      "  -4.31691766e-01 -1.53382793e-01 -3.40446830e-02 -8.14998597e-02\n",
      "   2.11635515e-01  3.34979802e-01  6.82970941e-01 -3.03267419e-01\n",
      "   1.40820011e-01  7.65001774e-01 -7.48541951e-02  9.03054476e-02\n",
      "  -1.02513872e-01  2.36768186e-01 -3.87778610e-01 -6.28069639e-02\n",
      "  -1.98858380e-02  9.42358375e-02  1.70600459e-01  1.63270667e-01\n",
      "  -7.68050700e-02 -5.61293699e-02 -2.82252312e-01 -2.04566214e-02\n",
      "  -3.76317173e-01 -4.74166632e-01 -1.45664930e-01 -4.24668431e-01\n",
      "  -5.71799502e-02 -8.45029727e-02  3.57573211e-01 -9.40629393e-02\n",
      "   2.79510349e-01  1.27059706e-02 -3.41271795e-02  3.35600823e-01\n",
      "  -3.65039930e-02  3.31229597e-01 -4.84001786e-02  4.32045758e-02\n",
      "  -2.27341682e-01  2.45884776e-01 -5.66804230e-01 -9.52460393e-02\n",
      "   4.63030040e-01 -5.38953781e-01  3.23504686e-01  2.22378746e-02\n",
      "  -1.28573537e-01 -7.16280416e-02 -1.24068290e-01 -3.23478937e-01\n",
      "  -7.92837888e-03  8.21305290e-02 -1.22315013e+00  5.33363998e-01\n",
      "  -5.01045048e-01  3.08311522e-01 -1.02060273e-01 -2.54170835e-01\n",
      "  -5.79010732e-02  6.48802161e-01 -1.96083874e-01  3.03197742e-01\n",
      "  -2.10767984e-03 -8.38247836e-02 -1.54259484e-02 -3.30624022e-02\n",
      "  -7.59626105e-02 -2.38956228e-01 -5.43788001e-02  8.72973055e-02\n",
      "  -8.97229239e-02 -8.49498436e-02 -4.49095160e-01  6.39790416e-01\n",
      "   4.48430538e-01  3.60392854e-02  1.75296739e-01 -1.73115715e-01\n",
      "   3.42588514e-01  2.86555499e-01 -1.43309981e-01  4.23365176e-01\n",
      "   8.17009434e-02 -2.31945202e-01 -3.22321504e-01 -2.89023608e-01\n",
      "   2.53039598e-01  3.86617839e-01  5.11558831e-01  1.24630727e-01\n",
      "   1.83426753e-01  1.01018280e-01  7.40083382e-02  4.02366310e-01\n",
      "   4.49480355e-01  4.39617224e-02  6.34703159e-01  4.38824296e-01\n",
      "  -8.39785859e-02  5.93510345e-02  3.40369165e-01 -1.46515146e-01\n",
      "   1.19730517e-01  1.48408100e-01 -1.63317427e-01 -6.33596241e-01\n",
      "   8.94231349e-02 -1.17524192e-01 -3.61086547e-01  4.86625642e-01\n",
      "   1.10003553e-01 -1.41565781e-02  5.33838868e-01 -7.08695576e-02\n",
      "  -2.53407657e-01 -1.49708882e-01  4.58837479e-01 -4.22558933e-01\n",
      "  -5.48241362e-02  3.84659201e-01 -3.63983028e-02  3.04178476e-01\n",
      "   3.37976575e-01 -2.75304615e-01 -4.84772027e-04  3.59004945e-01\n",
      "  -1.54607952e-01 -1.93802789e-01  3.76456738e-01  1.70765743e-01\n",
      "  -2.72921473e-01 -2.18783766e-01  1.51289403e-01 -4.66229528e-01\n",
      "   9.47161317e-02  8.68512511e-01 -1.58742994e-01  3.16463351e-01\n",
      "  -8.55749696e-02 -1.76606551e-02  2.05972970e-01  4.89396676e-02\n",
      "  -5.03949225e-02 -1.27587378e-01  3.84976454e-02 -3.03040266e-01\n",
      "  -4.90217283e-02 -3.82551402e-02 -4.26011652e-01 -1.47978934e-02\n",
      "  -4.31481272e-01  3.14811431e-02 -1.28508776e-01  1.68847054e-01\n",
      "   4.65133011e-01  1.75948352e-01  1.22808754e-01  3.79387528e-01\n",
      "   2.73156971e-01  1.41924918e-01  2.51236632e-02 -1.30900875e-01\n",
      "  -1.73221603e-02 -7.29964375e-01 -3.30795050e-01  4.14624780e-01\n",
      "   8.49431753e-03 -4.38628584e-01 -4.96091008e-01 -1.10146418e-01\n",
      "   1.03059936e+00  4.38951254e-01  6.96248189e-02  2.11543739e-02\n",
      "   2.28395641e-01 -9.78071466e-02 -1.43090203e-01  7.73746818e-02\n",
      "  -1.75374746e-01  3.93161923e-01  5.29210828e-02  1.48355216e-01\n",
      "   7.40857571e-02 -6.32529780e-02  8.45035851e-01  6.41775906e-01\n",
      "   4.76291895e-01 -2.59121954e-01 -1.98029891e-01  4.03671592e-01\n",
      "  -7.10255265e-01 -1.13441393e-01  5.13032191e-02 -1.69128180e-03\n",
      "  -2.63847947e-01 -3.49278562e-02  6.93774521e-02 -2.17556357e-01\n",
      "   3.22861820e-01  3.56833577e-01 -7.58709460e-02  3.05392891e-02\n",
      "   5.51585972e-01  2.26761788e-01 -9.50924084e-02 -1.18942417e-01\n",
      "  -3.07389855e-01 -3.04107249e-01 -6.13283932e-01  9.88791138e-02\n",
      "  -1.41337022e-01 -3.85447621e-01  7.80916631e-01 -1.10877857e-01\n",
      "   1.55909806e-01  7.62539864e-01 -2.31132060e-01 -2.18392722e-03\n",
      "   1.87894464e-01  1.77317083e-01  1.60545975e-01 -4.16888207e-01\n",
      "  -3.36495370e-01  4.03456576e-02 -2.03987330e-01  3.85445267e-01\n",
      "  -2.15791643e-01 -1.83059916e-01  4.15451646e-01  9.85161662e-02\n",
      "   1.09098516e-01  1.59531951e-01  1.99492633e-01 -1.62944868e-01\n",
      "   2.98497111e-01  1.62200600e-01 -2.22967062e-02  5.37514806e-01\n",
      "   3.85796219e-01  3.18572223e-01  5.33456393e-02  5.45858860e-01\n",
      "   1.33725658e-01  1.59312576e-01  5.66042960e-01  1.36973083e-01\n",
      "  -6.93306327e-04  2.83547282e-01 -4.61804390e-01 -1.40182507e+00\n",
      "   1.09545358e-01 -2.26166517e-01  1.49465576e-01  4.08576727e-02\n",
      "   2.74677813e-01  6.00934885e-02 -1.78188626e-02  1.08730227e-01\n",
      "  -3.35903198e-01 -2.83934355e-01  2.91575104e-01  2.14398950e-01\n",
      "  -3.95421386e-01 -1.87234506e-01 -7.69686550e-02  1.41183436e-01\n",
      "  -1.67996913e-01 -3.84542704e-01 -2.21169859e-01 -7.56151676e-02\n",
      "   1.77942693e-01  1.65395200e-01 -6.54237449e-01 -5.66487312e-01\n",
      "   2.05487698e-01 -8.61190408e-02 -4.02514517e-01 -7.61818141e-02\n",
      "   2.43193731e-02 -2.21441358e-01 -9.53174755e-03  2.44143248e-01\n",
      "   1.31725550e-01 -5.49747869e-02 -1.01156808e-01 -2.21178502e-01\n",
      "   1.22453243e-01 -3.19175869e-01  5.99831820e-01 -1.17592230e-01\n",
      "   1.62845716e-01 -8.86120796e-02  1.69515327e-01 -4.85062122e-01\n",
      "   2.41821051e-01  4.29059446e-01 -5.08801699e-01  5.55250585e-01\n",
      "  -3.05199981e-01  1.20914150e-02 -7.76640624e-02  3.70813310e-01\n",
      "  -1.85515314e-01  4.85051781e-01  2.70682514e-01  1.74081028e-01\n",
      "   3.08957249e-01  2.76069999e-01 -2.35491544e-01 -3.01033407e-02\n",
      "  -2.54528165e-01  1.02429934e-01  1.63038954e-01  6.72779232e-02\n",
      "  -4.00880039e-01 -6.96225286e-01 -6.01927996e-01 -1.25349686e-01\n",
      "  -6.00889586e-02 -6.71548843e-02 -8.64841975e-04 -1.97010748e-02\n",
      "   3.60951245e-01 -6.55824319e-02 -9.23401415e-02  5.42073727e-01\n",
      "  -2.22581506e-01  8.37953687e-02  6.23941682e-02  1.74944222e-01\n",
      "   9.39609557e-02 -2.43204907e-01 -2.01917365e-01  6.18341193e-02\n",
      "  -3.72379231e+00 -1.84217393e-01 -2.46191382e-01 -1.00898489e-01\n",
      "  -1.34681702e-01 -7.78673947e-01 -1.65657364e-02 -2.66267240e-01\n",
      "  -7.84029812e-02 -1.81385741e-01 -1.88252740e-02 -1.50318548e-01\n",
      "  -1.31455688e-02 -3.48852694e-01  2.01907918e-01 -1.98269144e-01]]\n"
     ]
    },
    {
     "name": "stderr",
     "output_type": "stream",
     "text": [
      "\n"
     ]
    }
   ],
   "source": [
    "out_ids = bert.recommend(\"Amy begins her first night shift in a hotel with a murderous past. Witnessing terrifying events and trapped within a loop, Amy must find a way to escape the flesh obsessed murderer and save residents of the hotel\")"
   ]
  },
  {
   "cell_type": "code",
   "execution_count": 10,
   "metadata": {},
   "outputs": [
    {
     "data": {
      "text/plain": [
       "[2518, 1053, 1996, 987, 2298]"
      ]
     },
     "execution_count": 10,
     "metadata": {},
     "output_type": "execute_result"
    }
   ],
   "source": [
    "out_ids"
   ]
  },
  {
   "cell_type": "code",
   "execution_count": 11,
   "metadata": {},
   "outputs": [
    {
     "data": {
      "text/plain": [
       "array([['Bliss (1997)',\n",
       "        'A mind-bending love story following Greg who, after recently being divorced and then fired, meets the mysterious Isabel, a woman living on the streets and convinced that the polluted, broken world around them is just a computer simulation. Doubtful at first, Greg eventually discovers there may be some truth to Isabel’s wild conspiracy.'],\n",
       "       ['Normal Life (1996)',\n",
       "        \"Chris Anderson and his wife Pam live a fairly normal life until Chris loses his job on the police force and secretly turns to robbing banks to make his wife's dreams come true. Upon discovering his secret, she joins his deadly crime wave and together they terrorize an unsuspecting suburban town.\"],\n",
       "       ['Poltergeist III (1988)',\n",
       "        \"Carol Anne has been sent to live with her Aunt and Uncle in an effort to hide her from the clutches of the ghostly Reverend Kane, but he tracks her down and terrorises her in her relatives' appartment in a tall glass building. Will he finally achieve his target and capture Carol Anne again, or will Tangina be able, yet again, to thwart him?\"],\n",
       "       ['Strangeland (1998)',\n",
       "        \"A pierced and tattooed sadist, Captain Howdy, trolls the Internet for naive teens, luring them to his home to torture and defile them. When Howdy kidnaps and tortures the daughter of police Detective Mike Gage, he is caught. Deemed insane, he is sent to an asylum but is released soon after, seemingly better. However, Gage knows it is only a matter of time before Howdy strikes again, and he's ready to unleash his own form of retribution when the time comes.\"],\n",
       "       ['Night Shift (1982)',\n",
       "        'Amy begins her first night shift in a hotel with a murderous past. Witnessing terrifying events and trapped within a loop, Amy must find a way to escape the flesh obsessed murderer and save residents of the hotel.']],\n",
       "      dtype=object)"
      ]
     },
     "execution_count": 11,
     "metadata": {},
     "output_type": "execute_result"
    }
   ],
   "source": [
    "plots[plots['movieID'].isin(out_ids)][['title', 'overview']].values"
   ]
  },
  {
   "cell_type": "code",
   "execution_count": 12,
   "metadata": {},
   "outputs": [
    {
     "data": {
      "text/plain": [
       "array([[1, 'Toy Story (1995)',\n",
       "        \"Led by Woody, Andy's toys live happily in his room until Andy's birthday brings Buzz Lightyear onto the scene. Afraid of losing his place in Andy's heart, Woody plots against Buzz. But when circumstances separate Buzz and Woody from their owner, the duo eventually learns to put aside their differences.\"],\n",
       "       [3114, 'Toy Story 2 (1999)',\n",
       "        \"Andy heads off to Cowboy Camp, leaving his toys to their own devices. Things shift into high gear when an obsessive toy collector named Al McWhiggen, owner of Al's Toy Barn kidnaps Woody. Andy's toys mount a daring rescue mission, Buzz Lightyear meets his match and Woody has to decide where he and his heart truly belong.\"]],\n",
       "      dtype=object)"
      ]
     },
     "execution_count": 12,
     "metadata": {},
     "output_type": "execute_result"
    }
   ],
   "source": [
    "plots[plots['title'].str.startswith('Toy Story')].values"
   ]
  },
  {
   "cell_type": "code",
   "execution_count": 13,
   "metadata": {},
   "outputs": [
    {
     "data": {
      "text/plain": [
       "3814"
      ]
     },
     "execution_count": 13,
     "metadata": {},
     "output_type": "execute_result"
    }
   ],
   "source": [
    "len(plots)"
   ]
  },
  {
   "cell_type": "code",
   "execution_count": 24,
   "metadata": {},
   "outputs": [],
   "source": [
    "from transformers import T5Tokenizer, T5EncoderModel"
   ]
  },
  {
   "cell_type": "code",
   "execution_count": 71,
   "metadata": {},
   "outputs": [],
   "source": [
    "class T5Predictor:\n",
    "    def __init__(self, movies, cache_dir: str = './data/', model_name: str = \"t5-small\"):\n",
    "        self.cache_dir = cache_dir\n",
    "        os.makedirs(self.cache_dir, exist_ok=True)\n",
    "\n",
    "        self.tokenizer = T5Tokenizer.from_pretrained(model_name)\n",
    "        self.model = T5EncoderModel.from_pretrained(model_name)\n",
    "\n",
    "        self.df = movies\n",
    "        self.overviews = [self.preprocess(str(a)) for a in self.df['overview'].values.tolist()]\n",
    "        \n",
    "        print(\"Getting T5 embeddings...\")\n",
    "        embeddings_path = os.path.join(self.cache_dir, 'overviews_embeddings_t5.pt')\n",
    "        if not os.path.exists(embeddings_path):\n",
    "            self.overviews_embeddings = self.model_outputs(self.overviews)\n",
    "            torch.save(self.overviews_embeddings, embeddings_path)\n",
    "        else:\n",
    "            self.overviews_embeddings = torch.load(embeddings_path)\n",
    "        print(\"Done\")\n",
    "    \n",
    "    def preprocess(self, text: str) -> np.ndarray:\n",
    "        doc = nlp(text)\n",
    "\n",
    "        cleaned_text = ' '.join([token.lemma_ for token in doc if token.text.lower() not in stop_words and token.is_alpha])\n",
    "        \n",
    "        return cleaned_text\n",
    "    \n",
    "    def model_outputs(self, items: List[str], batch_size: int = 64):\n",
    "        all_outputs = []\n",
    "        num_batches = len(items) // batch_size + (len(items) % batch_size != 0)\n",
    "        \n",
    "        for i in tqdm(range(0, len(items), batch_size), desc=\"Progress\", total=num_batches):\n",
    "            batch_items = items[i:i+batch_size]\n",
    "            inputs = self.tokenizer(batch_items, add_special_tokens=True, padding=True, max_length=100, truncation=True, return_tensors=\"pt\")\n",
    "\n",
    "            with torch.no_grad():\n",
    "                outputs = self.model(**inputs).last_hidden_state[:, 0, :].numpy()  # [batch, maxlen, hidden_state] -> using only [batch, hidden_state]\n",
    "                all_outputs.append(outputs)\n",
    "        return np.concatenate(all_outputs, axis=0)\n",
    "    \n",
    "    \n",
    "    def find_most_similar(self, input_text: str, top_n: int = 5) -> list:\n",
    "        output  = self.model_outputs([self.preprocess(input_text)])\n",
    "        #print(output)\n",
    "        similarities = cosine_similarity(output, self.overviews_embeddings)[0]\n",
    "        \n",
    "        most_similar_indices = similarities.argsort()[-top_n:][::-1]\n",
    "        movie_ids = self.df['movieID'].values.tolist()\n",
    "\n",
    "        result = [movie_ids[i] for i in most_similar_indices]\n",
    "        print(f\"Movie IDS: {result}\")\n",
    "        return result"
   ]
  },
  {
   "cell_type": "code",
   "execution_count": 72,
   "metadata": {},
   "outputs": [
    {
     "name": "stderr",
     "output_type": "stream",
     "text": [
      "Special tokens have been added in the vocabulary, make sure the associated word embeddings are fine-tuned or trained.\n"
     ]
    },
    {
     "name": "stdout",
     "output_type": "stream",
     "text": [
      "Getting T5 embeddings...\n"
     ]
    },
    {
     "name": "stderr",
     "output_type": "stream",
     "text": [
      "Progress: 100%|██████████| 60/60 [02:09<00:00,  2.16s/it]"
     ]
    },
    {
     "name": "stdout",
     "output_type": "stream",
     "text": [
      "Done\n"
     ]
    },
    {
     "name": "stderr",
     "output_type": "stream",
     "text": [
      "\n"
     ]
    }
   ],
   "source": [
    "t5 = T5Predictor(plots)"
   ]
  },
  {
   "cell_type": "code",
   "execution_count": 113,
   "metadata": {},
   "outputs": [
    {
     "name": "stderr",
     "output_type": "stream",
     "text": [
      "Progress: 100%|██████████| 1/1 [00:00<00:00, 44.62it/s]"
     ]
    },
    {
     "name": "stdout",
     "output_type": "stream",
     "text": [
      "[[-2.31389374e-01 -1.16050191e-01 -3.40510756e-02 -8.09760690e-02\n",
      "  -7.09153488e-02 -1.90737501e-01  2.31461972e-01  4.33843464e-01\n",
      "  -2.02163160e-01 -6.44693226e-02  8.74928385e-03 -1.29121304e-01\n",
      "  -9.20528546e-02  2.35302612e-01 -5.57978228e-02  7.24287331e-02\n",
      "  -1.39271453e-01  2.07740694e-01  2.73483098e-01 -1.51595056e-01\n",
      "   2.82573625e-02 -3.21703017e-01 -2.91800126e-02 -1.75978646e-01\n",
      "  -8.28471035e-02 -5.34971878e-02 -3.54028083e-02  1.23387761e-01\n",
      "   1.98172241e-01  1.25928879e-01  9.41045769e-03  1.07434124e-01\n",
      "  -6.56422600e-02 -1.42140597e-01  7.66285509e-03 -3.20078321e-02\n",
      "   8.25711787e-02 -3.89065370e-02 -1.51125547e-02  1.19604692e-01\n",
      "   2.57000104e-02  8.89517367e-04  1.14825815e-01 -9.16471556e-02\n",
      "   6.76917732e-02 -2.22942233e-01 -2.06314993e+00  1.06673418e-02\n",
      "  -2.56794810e-01 -2.00130895e-01  3.02332282e-01  4.60351631e-02\n",
      "   2.45962828e-01  2.57436514e-01  1.48710832e-01  3.70654225e-01\n",
      "  -3.23712602e-02  1.90957218e-01  5.42325340e-02  8.05940032e-02\n",
      "   1.17585674e-01  1.89565778e-01 -1.13978297e-01 -2.32029989e-01\n",
      "  -1.59984782e-01  4.16481011e-02  4.39495631e-02  3.40106845e-01\n",
      "  -1.98972493e-01  3.91606212e-01 -1.33037165e-01 -1.05072469e-01\n",
      "   2.42527366e-01  1.37556195e-01  2.12725237e-01 -1.32347569e-02\n",
      "   1.67212382e-01  1.35114700e-01 -8.90657455e-02 -3.31019498e-02\n",
      "   2.72904895e-02  1.66462615e-01  3.57025295e-01  2.54007012e-01\n",
      "  -1.11990251e-01  1.47784919e-01 -2.06268385e-01 -2.53321677e-01\n",
      "  -2.52829492e-03  3.31214100e-01 -3.81781638e-01 -4.12691720e-02\n",
      "   1.98876187e-02  2.48081371e-01  2.97637969e-01 -2.35852391e-01\n",
      "  -8.01685154e-02 -7.09553137e-02  1.85948461e-01  2.96965331e-01\n",
      "  -6.26075640e-03 -9.85803753e-02  8.26982483e-02 -1.80517092e-01\n",
      "   2.96541378e-02 -6.08471334e-02  1.76883548e-01 -2.73617536e-01\n",
      "  -1.91293657e-03 -2.48573756e+00  7.89259002e-02  1.72843188e-01\n",
      "   6.57761330e-03 -2.91177064e-01 -1.83068216e-01  4.45249051e-01\n",
      "   1.88370079e-01  1.82681717e-04 -1.92615658e-01  1.30734667e-01\n",
      "  -6.27173930e-02  2.71169662e-01 -5.92314862e-02 -8.91399384e-03\n",
      "   1.78315282e-01  2.46099398e-01 -6.57505030e-03 -4.41016778e-02\n",
      "   1.63820654e-01  1.99190676e-01  2.69967794e-01  4.04309392e-01\n",
      "  -3.88368182e-02 -6.87367246e-02 -1.27485096e-01  1.51693583e-01\n",
      "   3.12859386e-01 -1.79040402e-01 -1.49433196e-01  1.76169023e-01\n",
      "  -1.42990783e-01 -6.67255446e-02 -3.15944433e+00  2.81184316e-01\n",
      "   4.32356805e-01 -9.11647156e-02 -1.37000471e-01  7.97457546e-02\n",
      "   8.24420154e-02  1.40294442e-02  2.68802643e-02  1.75792910e-02\n",
      "  -1.05804011e-01  2.15464458e-03 -2.06586808e-01  2.22128302e-01\n",
      "  -1.72911942e-01 -1.53665379e-01  2.76037455e-01  2.29589179e-01\n",
      "   7.82201216e-02 -1.37282550e-01 -1.73522353e-01 -2.39751980e-01\n",
      "  -8.21429342e-02  7.14228302e-02  1.22328065e-01  7.88897127e-02\n",
      "   5.16090244e-02  6.56185672e-03 -4.52191941e-02  8.08231533e-02\n",
      "   3.55504215e-01 -4.86466736e-02  2.94255584e-01 -6.01759516e-02\n",
      "   1.37283161e-01  9.40024555e-02 -5.36027253e-02  4.24881130e-02\n",
      "  -2.44609714e-02  3.01640451e-01  2.61763960e-01  1.57227233e-01\n",
      "   1.18690699e-01 -1.77225187e-01  2.09870905e-01 -1.97075859e-01\n",
      "   1.09042913e-01  2.06931472e-01 -2.59716883e-02  1.41140670e-02\n",
      "   6.84718192e-02  8.77362564e-02  2.91174859e-01 -6.75379857e-03\n",
      "  -2.72785015e-02 -4.79908228e-01  3.42139453e-01  4.87543084e-02\n",
      "  -1.72329962e-01 -6.55212030e-02  1.28658310e-01  1.65599868e-01\n",
      "  -2.85373032e-01  3.60353804e+00 -3.08172852e-02 -9.12503377e-02\n",
      "   1.45184681e-01  1.47999883e-01  1.17394686e-01  1.93212330e-01\n",
      "  -7.25392923e-02 -1.02812611e-01  2.18188390e-01  7.82376379e-02\n",
      "   2.98582047e-01 -5.62513992e-02 -8.93375501e-02 -2.57319920e-02\n",
      "   1.12892061e-01  2.04201281e-01 -1.57913774e-01  1.44194394e-01\n",
      "  -2.11748838e-01  3.68867189e-01  1.14599839e-01  2.08844081e-01\n",
      "   3.06953751e-02 -9.82069016e-01  9.73554701e-03 -7.82084540e-02\n",
      "  -1.83657706e-02  1.64347649e-01 -2.40311220e-01 -2.89006513e-02\n",
      "   1.09832935e-01 -1.04070172e-01  2.28607893e-01  1.05105303e-02\n",
      "  -1.57825649e-01  4.47874703e-02  3.03377956e-01  1.11263201e-01\n",
      "  -1.01776004e-01  1.83533162e-01  1.10444151e-01  1.40285224e-01\n",
      "  -7.15476796e-02 -6.43026158e-02  2.07556963e-01 -2.84103215e-01\n",
      "   9.00238752e-02 -2.76118696e-01  2.34585982e-02  5.50766215e-02\n",
      "   1.39414705e-02 -5.81261702e-03 -2.00866818e-01 -5.09841442e-02\n",
      "  -9.60559174e-02 -5.31999208e-02  2.46215791e-01 -4.27151397e-02\n",
      "  -4.00351703e-01 -1.70921266e-01 -9.02052224e-03 -2.67708331e-01\n",
      "   1.00339845e-01 -3.21557522e-02  2.72601824e-02  9.88830552e-02\n",
      "  -1.75544560e-01 -4.15216208e+00 -2.15740446e-02 -1.43344879e-01\n",
      "   1.95308805e-01  2.06289232e-01  1.45485103e-02 -6.06734939e-02\n",
      "   5.73644638e-02  2.73720950e-01 -1.70029357e-01  3.92163813e-01\n",
      "   3.85580212e-02 -7.59507343e-02 -2.31682137e-02 -2.25939363e-01\n",
      "   1.18714422e-01  5.91478944e-02 -6.79867938e-02  5.83279356e-02\n",
      "  -1.83929846e-01  9.75746363e-02  2.88361937e-01 -2.69972503e-01\n",
      "   1.39420629e-01 -1.73868090e-02 -1.32596090e-01 -2.60188997e-01\n",
      "  -1.74510837e-01  2.11659104e-01 -1.97084308e-01 -6.31176978e-02\n",
      "  -1.11730643e-01  1.87696382e-01 -8.77523869e-02 -3.22127521e-01\n",
      "  -2.38956165e+00 -1.83976799e-01 -1.04183681e-01 -1.26544356e-01\n",
      "   1.78120136e-01 -2.31089160e-01  2.27522716e-01 -2.16160163e-01\n",
      "  -2.75213271e-01  2.48861551e-01 -1.86361223e-02 -9.03113931e-03\n",
      "   4.61722426e-02  5.29129505e-02  2.32175305e-01 -5.61423227e-02\n",
      "   1.27619863e-01  5.35400696e-02  8.05937871e-02  9.27715823e-02\n",
      "   7.86669850e-02  6.41466975e-02 -8.91300589e-02 -2.36286700e-01\n",
      "   3.88628244e-02  3.10600668e-01 -3.02059174e-01  4.12379801e-02\n",
      "  -2.12051272e-01 -1.62225515e-01 -6.18288256e-02 -1.21334083e-02\n",
      "  -7.94262439e-02  6.39910772e-02 -1.24132439e-01 -4.97397631e-02\n",
      "   8.44625309e-02  1.79333001e-01  4.06141102e-01  2.87951261e-01\n",
      "  -1.95922852e-01  3.54729235e-01  1.36759385e-01  1.82348624e-01\n",
      "   4.62414354e-01  7.32215792e-02  1.99781597e-01 -2.55293876e-01\n",
      "  -1.12199351e-01 -2.84979474e-02  7.37011880e-02  8.08424279e-02\n",
      "   1.14570951e+00  8.57526958e-02  2.64054060e-01 -9.30496752e-02\n",
      "   3.43987763e-01  8.97083282e-02 -6.46001473e-02 -6.37655184e-02\n",
      "   4.50834006e-01  3.26544084e-02  6.90302700e-02 -1.73284888e-01\n",
      "   2.29037479e-02 -2.98335850e-01  2.23937184e-01 -3.04195225e-01\n",
      "   3.24883536e-02 -5.76671548e-02 -1.42376244e-01  1.75861597e-01\n",
      "  -2.24818811e-02 -8.01554918e-01 -1.69384584e-01  1.17677830e-01\n",
      "  -1.08476356e-01  1.36899099e-01  3.22877653e-02 -6.27751946e-02\n",
      "  -2.46426225e-01 -5.19653186e-02 -7.71622062e-02  1.65411741e-01\n",
      "  -1.86235011e-01 -1.59371406e-01 -1.35692358e-01  1.78140141e-02\n",
      "  -3.30472797e-01  9.49010104e-02 -1.43229291e-01  1.64429381e-01\n",
      "   3.97486389e-02  8.16700310e-02  1.20347500e-01 -1.64306462e-02\n",
      "   3.12055498e-01 -7.91990280e-01  1.08464301e-01 -2.00514093e-01\n",
      "  -7.12200254e-03 -1.61082953e-01 -1.19895563e-02 -4.32353839e-02\n",
      "  -2.07490668e-01 -1.83004454e-01 -6.44811094e-02  3.16151440e-01\n",
      "  -7.79303014e-02  1.73846081e-01 -9.98847708e-02  1.49275571e-01\n",
      "   3.25599052e-02  2.15249598e-01  8.33569944e-01  4.34704646e-02\n",
      "   4.57560644e-02  2.80047596e-01  1.21771963e-02  3.08584899e-01\n",
      "   8.48601535e-02  4.13881354e-02  1.82112306e-03 -4.72542867e-02\n",
      "   3.12912464e-03  1.04007408e-01  3.88157740e-03 -1.93390787e-01\n",
      "  -1.05337761e-01  9.63070244e-02  7.02917427e-02 -3.16996016e-02\n",
      "   1.62248462e-02 -6.23758256e-01  1.03522569e-01 -2.61429459e-01\n",
      "  -1.56871021e-01  1.00711368e-01  3.61768991e-01 -6.73871711e-02\n",
      "   2.00969756e-01 -2.60121450e-02  3.46640907e-02  4.13329095e-01\n",
      "  -6.06590360e-02  2.41894826e-01  8.37820545e-02  6.52984381e-02\n",
      "   8.57943222e-02  2.65783966e-01 -2.20913589e-01 -2.05675855e-01\n",
      "   1.65187061e-01 -1.55736163e-01  1.62623778e-01  3.73192653e-02\n",
      "   1.51889687e-02 -2.59446725e-03  7.75764436e-02 -5.09783141e-02\n",
      "   3.50239910e-02  3.93027440e-02 -1.19294119e+00  2.03322455e-01\n",
      "   1.52979568e-02  1.79988444e-02  9.62818861e-02 -6.64342791e-02\n",
      "  -1.30903780e-01  2.73658097e-01  6.56234473e-02  7.48956352e-02\n",
      "  -6.50190935e-03  7.81202093e-02 -1.41929463e-01 -1.26706213e-01\n",
      "   1.21697057e-02 -1.41928717e-01  2.94876471e-02  1.68510973e-01\n",
      "   7.62612745e-02  1.03211708e-01  2.52664201e-02  2.75588661e-01\n",
      "   1.19111463e-01 -1.79419994e-01 -4.37169038e-02  4.45116796e-02\n",
      "   1.13534309e-01  4.19879377e-01  1.13375828e-01  2.01482564e-01\n",
      "   1.11147307e-01 -2.12527663e-01 -5.55463016e-01 -5.54348826e-02\n",
      "   2.37363189e-01  5.41955829e-02  1.46567836e-01 -1.42672956e-02\n",
      "   5.30115589e-02 -1.34772155e-02 -3.59851688e-01  2.79070020e-01\n",
      "   2.59549916e-01 -1.01105720e-02  4.64531928e-01  1.88010067e-01\n",
      "  -7.08192438e-02  1.61944017e-01  9.78439674e-02 -2.06251770e-01\n",
      "  -6.94228336e-02 -1.77780554e-01 -6.15346171e-02 -1.90677419e-01\n",
      "  -3.19703519e-02  7.27265477e-02  4.98972200e-02 -3.25875506e-02\n",
      "  -2.60093153e-01 -6.33461624e-02  1.64721310e-01 -2.33599707e-01\n",
      "  -1.93406254e-01  1.08839877e-01 -1.24009624e-01 -5.27606487e-01\n",
      "  -2.14497149e-01 -2.24166773e-02  1.70998484e-01  1.45046398e-01\n",
      "   3.01991999e-01  8.49454999e-02 -1.67939425e-01  9.87734646e-02\n",
      "  -2.82674998e-01  1.06937386e-01  1.66589320e-01  5.81153482e-02\n",
      "   2.29018822e-01 -2.67899066e-01  1.69631690e-02 -2.69008934e-01\n",
      "  -1.00325882e-01  1.19876131e-01 -1.48022268e-02  5.67774549e-02\n",
      "  -3.84650379e-02 -3.22166644e-02 -6.77554980e-02  1.06618777e-02\n",
      "  -1.38585076e-01 -3.01132977e-01  6.77262545e-02 -8.42694789e-02\n",
      "  -2.36132443e-02  2.39424556e-02 -1.43248066e-02  4.44449186e-02\n",
      "  -1.12054408e-01  4.50057909e-03 -9.52342376e-02  2.37898558e-01\n",
      "   1.03892937e-01  1.24403127e-01  1.64267257e-01  1.77941203e-01\n",
      "   1.89466059e-01  8.50147754e-03 -2.65901566e-01  8.96768123e-02\n",
      "   2.41534486e-02  9.74181071e-02 -1.16915293e-01  2.44204625e-02\n",
      "  -4.27628681e-02 -3.65191281e-01 -2.54279971e-01  8.00240189e-02\n",
      "   2.20313978e+00  4.13387209e-01 -6.26847446e-02 -1.01397708e-02\n",
      "   3.15834701e-01  6.98962361e-02 -7.10713789e-02  2.01523736e-01\n",
      "  -1.92785859e-01  2.13821575e-01  1.02167195e-02  1.84188277e-01\n",
      "  -5.35186976e-02  1.35014191e-01  2.36021310e-01  9.43856835e-02\n",
      "   1.42018907e-02 -1.61154509e-01 -2.20447138e-01 -5.25542311e-02\n",
      "  -4.98711467e-01  9.80697125e-02  1.76673859e-01 -6.46854192e-03\n",
      "  -4.18671966e-02  1.50197446e-01 -1.35267556e-01 -6.81255385e-02\n",
      "   1.88226625e-01  8.60499963e-02 -1.04941539e-01  6.32151365e-02\n",
      "   9.62715521e-02  2.89883912e-01 -6.45294935e-02  6.99855462e-02\n",
      "   6.66648671e-02 -2.08282262e-01 -1.26770645e-01  1.07298449e-01\n",
      "  -4.37500663e-02 -3.66993904e-01  2.36495793e-01 -3.96703556e-02\n",
      "   1.04051102e-02  2.84446955e-01 -7.20221475e-02 -2.93274671e-01\n",
      "   3.66558880e-01  1.47515610e-01 -1.02917388e-01 -7.20643774e-02\n",
      "  -1.09170690e-01 -2.81319395e-03 -4.81709540e-02 -2.06198364e-01\n",
      "   5.21073416e-02  7.99842924e-02 -1.65067017e-02  1.74973965e-01\n",
      "  -7.90095180e-02  1.26970813e-01  1.21369205e-01  3.88945974e-02\n",
      "   1.76082134e-01  6.85852766e-02 -1.76381126e-01  9.24298242e-02\n",
      "   1.91580430e-01 -1.31077200e-01  1.88513771e-02  1.80022493e-01\n",
      "   1.83144540e-01  7.19553232e-02  3.41011196e-01 -9.81149077e-02\n",
      "   2.69817650e-01 -1.12447388e-01 -3.29592042e-02 -3.03549123e+00\n",
      "   4.04289812e-02  9.45550948e-02  7.66371191e-02  3.03738844e-02\n",
      "   4.92068440e-01  3.52115989e-01 -1.59753367e-01  3.85034904e-02\n",
      "  -7.73832276e-02  1.69447780e-01  1.27867609e-01  1.39930487e-01\n",
      "  -4.70934808e-03  8.51042420e-02  1.16692051e-01  2.34147720e-02\n",
      "  -1.50343582e-01 -2.78713889e-02 -7.11201429e-02  1.41050696e-01\n",
      "   8.18461254e-02  6.11185282e-03 -3.07935089e-01 -2.74073511e-01\n",
      "   2.53424674e-01 -1.06393516e-01 -1.75378382e-01  8.04734528e-02\n",
      "   1.84319913e-03 -1.96037024e-01  2.04370216e-01 -3.33461314e-02\n",
      "   1.07229687e-01 -7.33900368e-02 -2.62510002e-01 -5.61111718e-02\n",
      "  -1.15530357e-01  4.24744599e-02 -9.55192372e-02 -1.68820083e-01\n",
      "   3.02813232e-01 -8.33513290e-02  1.94838624e-02 -1.55447811e-01\n",
      "  -3.34056802e-02  1.26173198e-01 -1.90206021e-01  1.32867813e-01\n",
      "  -3.35012197e-01  6.89314157e-02  1.76499128e-01  1.27083689e-01\n",
      "  -1.24654425e-02  1.80779740e-01  1.12769455e-01  1.60302132e-01\n",
      "   1.60342082e-01 -6.68826774e-02 -2.70964473e-01 -9.87048745e-02\n",
      "   1.53920859e-01 -1.20040886e-02  1.59394220e-01  1.70387834e-01\n",
      "  -1.83520198e-01 -2.35701889e-01 -1.33981615e-01 -1.04672022e-01\n",
      "  -3.55284363e-02 -1.73898488e-01 -9.94704440e-02  1.72249302e-01\n",
      "  -4.77642938e-03 -1.38506480e-02 -2.99721956e-04  2.14087144e-01\n",
      "   3.23995560e-01  1.96759403e-01  3.56823623e-01  1.13687702e-01\n",
      "  -6.91054463e-02 -8.02907161e-03 -7.51786679e-02  2.18475893e-01\n",
      "  -7.98484373e+00 -2.09921271e-01 -6.30431995e-02  1.27391577e-01\n",
      "  -2.48695686e-02 -3.80288929e-01 -6.90227300e-02 -1.60981074e-01\n",
      "  -2.47059129e-02 -1.23941824e-01  1.69373333e-01 -2.65938845e-02\n",
      "  -1.43247833e-02 -5.69220781e-02  2.94834882e-01  2.47445062e-01]]\n"
     ]
    },
    {
     "name": "stderr",
     "output_type": "stream",
     "text": [
      "\n"
     ]
    }
   ],
   "source": [
    "out_ids = bert.recommend(\"A funny movie with talking animals\")"
   ]
  },
  {
   "cell_type": "code",
   "execution_count": 114,
   "metadata": {},
   "outputs": [
    {
     "name": "stderr",
     "output_type": "stream",
     "text": [
      "Progress: 100%|██████████| 1/1 [00:00<00:00, 32.15it/s]"
     ]
    },
    {
     "name": "stdout",
     "output_type": "stream",
     "text": [
      "Movie IDS: [1122, 3429, 3819, 3828, 2050]\n"
     ]
    },
    {
     "name": "stderr",
     "output_type": "stream",
     "text": [
      "\n"
     ]
    },
    {
     "data": {
      "text/plain": [
       "[1122, 3429, 3819, 3828, 2050]"
      ]
     },
     "execution_count": 114,
     "metadata": {},
     "output_type": "execute_result"
    }
   ],
   "source": [
    "out_idst5 = t5.find_most_similar(\"A funny movie with talking animals\")\n",
    "out_idst5"
   ]
  },
  {
   "cell_type": "code",
   "execution_count": 115,
   "metadata": {},
   "outputs": [
    {
     "data": {
      "text/plain": [
       "array([['Lawnmower Man, The (1992)',\n",
       "        'A simple man is turned into a genius through the application of computer science.'],\n",
       "       ['Smile Like Yours, A (1997)',\n",
       "        'A comedy about a couple who cannot conceive a baby'],\n",
       "       ['Mouse Hunt (1997)', 'A band of mice steals grains from cats.'],\n",
       "       ['Tinseltown (1998)',\n",
       "        \"In Hollywood it's all about who you know, and the only person two friends know is a serial killer.\"],\n",
       "       ['Lost Son, The (1999)',\n",
       "        'Mac is at the threshold of losing everything while directing his feature film.']],\n",
       "      dtype=object)"
      ]
     },
     "execution_count": 115,
     "metadata": {},
     "output_type": "execute_result"
    }
   ],
   "source": [
    "plots[plots['movieID'].isin(out_ids)][['title', 'overview']].values"
   ]
  },
  {
   "cell_type": "code",
   "execution_count": 116,
   "metadata": {},
   "outputs": [
    {
     "data": {
      "text/plain": [
       "array([['Plutonium Circus (1995)',\n",
       "        'Funny yet incisive look at the PANTEX Nuclear Weapons Plant, in Amarillo, TX, which was used for nuclear weapons assembly during the Cold War. The plant, which provides most of the jobs for those living in Amarillo, now operates as a disassembly-line where the weapons, which were once built there, are now being taken apart with the plutonium getting stored underground. The film deals with the issues of storing the plutonium and the effects the plant has had (and is having) on the town of Amarillo, as well as how it has affected the way people thought about the Cold War and its aftermath. It does so by taking a look at the lives and activities of the Amarillo residents directly or indirectly associated with, or having strong opinions about the Plant.'],\n",
       "       ['Herbie Goes Bananas (1980)',\n",
       "        'The adorable little VW helps its owners break up a counterfeiting ring in Mexico.'],\n",
       "       ['Creature Comforts (1990)',\n",
       "        'A humorous and thought-provoking view of what animals in zoos might be thinking about their captivity and surroundings.'],\n",
       "       ['Tampopo (1986)',\n",
       "        'In this humorous paean to the joys of food, a pair of truck drivers happen onto a decrepit roadside shop selling ramen noodles. The widowed owner, Tampopo, begs them to help her turn her establishment into a paragon of the \"art of noodle-soup making\". Interspersed are satirical vignettes about the importance of food to different aspects of human life.'],\n",
       "       ['Better Living (1998)',\n",
       "        'A comedy about families, the elements that bind them together, and about hope in the face of hardship.']],\n",
       "      dtype=object)"
      ]
     },
     "execution_count": 116,
     "metadata": {},
     "output_type": "execute_result"
    }
   ],
   "source": [
    "plots[plots['movieID'].isin(out_idst5)][['title', 'overview']].values"
   ]
  },
  {
   "cell_type": "code",
   "execution_count": 92,
   "metadata": {},
   "outputs": [],
   "source": [
    "from nltk.tokenize import word_tokenize\n",
    "from nltk.stem import WordNetLemmatizer\n",
    "from sklearn.feature_extraction.text import TfidfVectorizer"
   ]
  },
  {
   "cell_type": "code",
   "execution_count": 109,
   "metadata": {},
   "outputs": [],
   "source": [
    "class lfidf:\n",
    "   def __init__(self, movies, cache_dir: str = './data/', model_name: str = \"t5-small\"):\n",
    "      self.cache_dir = cache_dir\n",
    "      os.makedirs(self.cache_dir, exist_ok=True)\n",
    "\n",
    "      self.lemmatizer = WordNetLemmatizer()\n",
    "      self.tfidf_vectorizer = TfidfVectorizer()\n",
    "      \n",
    "      self.df = movies\n",
    "      self.overviews = [self.preprocess(str(a)) for a in self.df['overview'].values.tolist()]\n",
    "      \n",
    "      embeddings_path = os.path.join(self.cache_dir, 'overviews_embeddings_lfidf.pt')\n",
    "      if not os.path.exists(embeddings_path):\n",
    "         self.overviews_embeddings = self.tfidf_vectorizer.fit_transform(self.overviews)\n",
    "         torch.save(self.overviews_embeddings, embeddings_path)\n",
    "      else:\n",
    "         self.tfidf_vectorizer.fit(self.overviews)\n",
    "         self.overviews_embeddings = torch.load(embeddings_path)\n",
    "      \n",
    "\n",
    "   def preprocess(self, text):\n",
    "      tokens = word_tokenize(text.lower())\n",
    "      filtered_tokens = [self.lemmatizer.lemmatize(word) for word in tokens if word.isalnum()]\n",
    "      return ' '.join(filtered_tokens)\n",
    "   \n",
    "   def find_best_fit_movies(self, prompt, top_n=5):\n",
    "      prompt_processed = self.preprocess(prompt)\n",
    "      prompt_vector = self.tfidf_vectorizer.transform([prompt_processed])\n",
    "      \n",
    "      similarity_scores = cosine_similarity(prompt_vector, self.overviews_embeddings)[0]\n",
    "      most_similar_indices = similarity_scores.argsort()[-top_n:][::-1]\n",
    "      movie_ids = self.df['movieID'].values.tolist()\n",
    "\n",
    "      result = [movie_ids[i] for i in most_similar_indices]\n",
    "      print(f\"Movie IDS: {result}\")\n",
    "      return result\n",
    "         "
   ]
  },
  {
   "cell_type": "code",
   "execution_count": 110,
   "metadata": {},
   "outputs": [],
   "source": [
    "lfidf = lfidf(plots)"
   ]
  },
  {
   "cell_type": "code",
   "execution_count": 130,
   "metadata": {},
   "outputs": [
    {
     "name": "stdout",
     "output_type": "stream",
     "text": [
      "Movie IDS: [2443, 634, 243, 1360, 333]\n"
     ]
    },
    {
     "data": {
      "text/plain": [
       "[2443, 634, 243, 1360, 333]"
      ]
     },
     "execution_count": 130,
     "metadata": {},
     "output_type": "execute_result"
    }
   ],
   "source": [
    "out_idslf = lfidf.find_best_fit_movies(\"Funny movie about talking animals\")\n",
    "out_idslf"
   ]
  },
  {
   "cell_type": "code",
   "execution_count": 131,
   "metadata": {},
   "outputs": [
    {
     "data": {
      "text/plain": [
       "array([['Gordy (1995)',\n",
       "        'A talking pig named Gordy becomes involved in a quest to save his family from the slaughterhouse.'],\n",
       "       ['Tommy Boy (1995)',\n",
       "        'To save the family business, two ne’er-do-well traveling salesmen hit the road with disastrously funny consequences.'],\n",
       "       ['Theodore Rex (1995)',\n",
       "        'In an alternate futuristic society, a tough female police detective is paired with a talking dinosaur to find the killer of dinosaurs and other prehistoric animals leading them to a mad scientist bent on creating a new Armageddon.'],\n",
       "       ['Identification of a Woman (Identificazione di una donna) (1982)',\n",
       "        \"The movie director Niccolò has just been left by his wife. Subsequently he embarks on an obsessive relationship with a young woman who eventually leaves him and disappears while searching for her, he meets a variety of other willing girls. This gives him the idea of making a movie about women's relationships. He starts to search for a woman who can play the leading part in the movie.\"],\n",
       "       ['Playing by Heart (1998)',\n",
       "        \"A sexy, romantic comedy about modern couples coming together in funny and unexpected ways. Paul and Hannah discover that even after 40 years of marriage, they can still learn some very surprising things about each other. Meredith is a serious theatre director who isn't looking for a relationship... but has one looking for her in the person of the funny, persistent Trent. Then there's Joan and Keenan, young people searching for love in an L.A. club scene where the rules of dating seem to change every night.\"]],\n",
       "      dtype=object)"
      ]
     },
     "execution_count": 131,
     "metadata": {},
     "output_type": "execute_result"
    }
   ],
   "source": [
    "plots[plots['movieID'].isin(out_idslf)][['title', 'overview']].values"
   ]
  },
  {
   "cell_type": "code",
   "execution_count": 162,
   "metadata": {},
   "outputs": [],
   "source": [
    "from gensim.models import Word2Vec\n",
    "class word2vec:\n",
    "   def __init__(self, movies, cache_dir: str = './data/', model_name: str = \"t5-small\"):\n",
    "      self.cache_dir = cache_dir\n",
    "      os.makedirs(self.cache_dir, exist_ok=True)\n",
    "\n",
    "      self.lemmatizer = WordNetLemmatizer()\n",
    "      self.tfidf_vectorizer = TfidfVectorizer()\n",
    "      \n",
    "      self.df = movies\n",
    "      self.overviews = [self.preprocess(str(a)) for a in self.df['overview'].values.tolist()]\n",
    "      self.word2vec_model = Word2Vec(self.overviews, vector_size=100, window=5, min_count=1, workers=4)\n",
    "\n",
    "      embeddings_path = os.path.join(self.cache_dir, 'overviews_embeddings_word2vec.pt')\n",
    "      if not os.path.exists(embeddings_path):\n",
    "         self.overviews_embeddings = [self.vectorize_sentence(a, self.word2vec_model) for a in self.overviews]\n",
    "         \n",
    "         torch.save(self.overviews_embeddings, embeddings_path)\n",
    "      else:\n",
    "         self.overviews_embeddings = torch.load(embeddings_path)\n",
    "      \n",
    "\n",
    "   def preprocess(self, text):\n",
    "      tokens = word_tokenize(text.lower())\n",
    "      filtered_tokens = [self.lemmatizer.lemmatize(word) for word in tokens if word.isalnum()]\n",
    "      return ' '.join(filtered_tokens)\n",
    "   \n",
    "   def vectorize_sentence(self, sentence, model):\n",
    "      vectors = [model.wv[word] for word in sentence if word in model.wv]\n",
    "      if not vectors:\n",
    "         return np.zeros(model.vector_size)\n",
    "      return np.mean(vectors, axis=0)\n",
    "   \n",
    "   def find_best_fit_movies(self, prompt, top_n=5):\n",
    "      prompt_processed = self.preprocess(prompt)\n",
    "      prompt_vector = self.vectorize_sentence(prompt_processed, self.word2vec_model)\n",
    "      similarity_scores = [cosine_similarity([prompt_vector], [overview])[0][0] for overview in self.overviews_embeddings]\n",
    "      \n",
    "      #most_similar_indices = similarity_scores.nlargest(top_n).index\n",
    "      # similarity_scores = cosine_similarity(prompt_vector, self.overviews_embeddings)[0]\n",
    "      most_similar_indices = np.argsort(similarity_scores)[-top_n:][::-1]\n",
    "      movie_ids = self.df['movieID'].values.tolist()\n",
    "\n",
    "      result = [movie_ids[i] for i in most_similar_indices]\n",
    "      print(f\"Movie IDS: {result}\")\n",
    "      return result\n",
    "         "
   ]
  },
  {
   "cell_type": "code",
   "execution_count": 163,
   "metadata": {},
   "outputs": [],
   "source": [
    "words = word2vec(plots)"
   ]
  },
  {
   "cell_type": "code",
   "execution_count": 169,
   "metadata": {},
   "outputs": [
    {
     "name": "stdout",
     "output_type": "stream",
     "text": [
      "[0.8646652, 0.83766663, 0.84035873, 0.8320831, 0.833397, 0.8200444, 0.84836984, 0.8488707, 0.8497766, 0.8349058, 0.8341093, 0.83449155, 0.83378637, 0.8430012, 0.82107717, 0.8296086, 0.83428353, 0.8110009, 0.827028, 0.8284133, 0.84321904, 0.83011055, 0.8382337, 0.8434102, 0.8325455, 0.7998518, 0.83924955, 0.8354376, 0.818656, 0.82660884, 0.8308071, 0.83577627, 0.8295379, 0.82753944, 0.83074105, 0.8328463, 0.8517064, 0.833789, 0.832806, 0.8209554, 0.82609344, 0.8183186, 0.83320403, 0.8452732, 0.8350979, 0.8065775, 0.8326493, 0.8524684, 0.8295759, 0.8351065, 0.83772653, 0.8252324, 0.82140535, 0.83294505, 0.81953835, 0.8480341, 0.8141236, 0.8182094, 0.8413095, 0.838038, 0.8336382, 0.83410627, 0.8418002, 0.83298236, 0.8383667, 0.8369723, 0.80898285, 0.8618585, 0.8256802, 0.82567585, 0.8334872, 0.81796396, 0.8251867, 0.82162654, 0.83802164, 0.83692896, 0.82448393, 0.8305355, 0.8293899, 0.8206334, 0.84715104, 0.82075894, 0.8172603, 0.8354642, 0.8273645, 0.8462034, 0.8208983, 0.83288014, 0.8472861, 0.85728496, 0.81204164, 0.84413433, 0.8379398, 0.8318232, 0.8463141, 0.84070027, 0.83432686, 0.8467987, 0.8328036, 0.82418823, 0.8383134, 0.83605283, 0.8216726, 0.8292571, 0.84763426, 0.85739845, 0.8159102, 0.83270067, 0.8312143, 0.8453304, 0.8037425, 0.8232231, 0.85374385, 0.8253191, 0.83469766, 0.8468394, 0.83845603, 0.8323674, 0.8573898, 0.82557, 0.83181274, 0.81828964, 0.83509773, 0.85631526, 0.8256239, 0.79478335, 0.82033837, 0.85154396, 0.82733107, 0.8412123, 0.83629245, 0.8465733, 0.82155526, 0.8059744, 0.8090491, 0.80477446, 0.84844714, 0.82586026, 0.8345677, 0.8199124, 0.8323662, 0.8200814, 0.86065996, 0.8482208, 0.8341439, 0.81445384, 0.8299822, 0.8437226, 0.8314331, 0.8425548, 0.8374313, 0.8436083, 0.8501871, 0.8334235, 0.8403048, 0.8298628, 0.81543344, 0.8434288, 0.830352, 0.84124917, 0.84239507, 0.8302778, 0.83459944, 0.85404086, 0.8320902, 0.81247485, 0.82238436, 0.8275201, 0.8306464, 0.813108, 0.8293876, 0.8612633, 0.82152784, 0.82834154, 0.8494785, 0.8201878, 0.82189536, 0.80796826, 0.8452692, 0.8343964, 0.82993186, 0.8368304, 0.8214355, 0.85169756, 0.8273703, 0.8408523, 0.82092744, 0.82566464, 0.83549494, 0.85109556, 0.838845, 0.8227292, 0.8325398, 0.84065956, 0.8159423, 0.837207, 0.85811144, 0.82322925, 0.82036024, 0.8243803, 0.8481481, 0.8175318, 0.8148708, 0.83831805, 0.83036846, 0.8417731, 0.8490541, 0.8263041, 0.8271508, 0.83968896, 0.84039795, 0.8432212, 0.8405952, 0.8091517, 0.830693, 0.8380785, 0.8274617, 0.8268367, 0.8346795, 0.82978594, 0.81902915, 0.82372195, 0.83581334, 0.83284926, 0.8113328, 0.8438707, 0.83127576, 0.8178899, 0.8177337, 0.8222601, 0.8149017, 0.8376752, 0.8403026, 0.8484236, 0.81435895, 0.8450176, 0.84564054, 0.799455, 0.8411752, 0.87150955, 0.8090302, 0.8383457, 0.8319705, 0.8453995, 0.8306848, 0.83560264, 0.82430166, 0.81483525, 0.8227707, 0.8271477, 0.8494624, 0.8287351, 0.8388903, 0.8517863, 0.8454593, 0.8134492, 0.800964, 0.815579, 0.8281651, 0.82615507, 0.81257683, 0.8143207, 0.84344167, 0.8364221, 0.825839, 0.8301782, 0.85246265, 0.8117116, 0.8248111, 0.8345777, 0.83946246, 0.82975054, 0.8433981, 0.8342577, 0.82879096, 0.8183465, 0.84850144, 0.84951144, 0.83825594, 0.8439521, 0.82393056, 0.84141773, 0.83669126, 0.8224524, 0.8394835, 0.84807897, 0.82860124, 0.83266205, 0.8306207, 0.84041554, 0.82509327, 0.8294433, 0.8295497, 0.82334226, 0.8089879, 0.83794254, 0.828084, 0.8306265, 0.8488023, 0.841227, 0.83044827, 0.8335616, 0.8310967, 0.8331821, 0.8602452, 0.8301401, 0.83377063, 0.81720376, 0.8385433, 0.8337998, 0.81824285, 0.8304343, 0.83729714, 0.82857615, 0.83372384, 0.85080457, 0.85029495, 0.8207812, 0.801884, 0.8384033, 0.82548314, 0.83855325, 0.8217561, 0.80724704, 0.817823, 0.84269094, 0.83777064, 0.8409337, 0.8342816, 0.8391711, 0.85083324, 0.83017814, 0.8212687, 0.8293942, 0.8262259, 0.82340217, 0.8204947, 0.8388207, 0.83817035, 0.8311378, 0.79730856, 0.8439305, 0.8393882, 0.83694774, 0.84741634, 0.8388385, 0.8552222, 0.83280283, 0.81854105, 0.82581127, 0.81783843, 0.8396847, 0.81650525, 0.8276648, 0.830191, 0.83664274, 0.8261131, 0.84467316, 0.82218236, 0.82816356, 0.84633607, 0.84161353, 0.8433098, 0.822279, 0.8469854, 0.8255413, 0.8449501, 0.8269799, 0.83793044, 0.84722286, 0.8253251, 0.8247028, 0.8226266, 0.8187364, 0.8303822, 0.85219145, 0.82836545, 0.836399, 0.8201627, 0.8341857, 0.81864077, 0.81978357, 0.82504153, 0.84782606, 0.8426882, 0.8402858, 0.8231495, 0.83986694, 0.8722968, 0.8334684, 0.83415866, 0.8463325, 0.8175216, 0.8388028, 0.8461689, 0.8327029, 0.8409964, 0.8341453, 0.83848095, 0.8253662, 0.8265987, 0.84725887, 0.8608025, 0.8359381, 0.85783017, 0.84603876, 0.8380125, 0.8237674, 0.81876117, 0.82109874, 0.8210273, 0.8433824, 0.8274123, 0.83416814, 0.826007, 0.8497383, 0.82267, 0.8315271, 0.82559246, 0.81775373, 0.83790326, 0.8562356, 0.81616235, 0.822637, 0.8361687, 0.8224787, 0.84389246, 0.8263011, 0.8408749, 0.83302397, 0.82807225, 0.82447445, 0.78844273, 0.8490927, 0.83566743, 0.83798015, 0.79980886, 0.8347565, 0.8347276, 0.83672994, 0.81499916, 0.8346275, 0.8379034, 0.83848315, 0.84801644, 0.83287394, 0.8293654, 0.83840847, 0.8522658, 0.826027, 0.82751775, 0.8541489, 0.8315163, 0.84937626, 0.8421533, 0.83833325, 0.8247362, 0.82654285, 0.8130519, 0.84636855, 0.82153046, 0.8449501, 0.83399063, 0.83574224, 0.83595973, 0.84629095, 0.8219246, 0.8175988, 0.83721197, 0.8171876, 0.839329, 0.8378857, 0.82448405, 0.8243595, 0.8398912, 0.8345252, 0.8326255, 0.84504056, 0.8352651, 0.861891, 0.8348615, 0.85470057, 0.8405527, 0.8355501, 0.82986915, 0.7847957, 0.8163303, 0.8226316, 0.83510625, 0.8279859, 0.81216, 0.8479936, 0.8356642, 0.8429309, 0.8239521, 0.8200205, 0.825529, 0.8278246, 0.8427067, 0.8400976, 0.8151492, 0.82990134, 0.83008856, 0.8269444, 0.8275525, 0.7909716, 0.8558461, 0.82990706, 0.8356581, 0.8295371, 0.8490648, 0.8247201, 0.82684696, 0.8271827, 0.83455616, 0.83794576, 0.8217904, 0.8202497, 0.8478195, 0.851738, 0.8175722, 0.8376922, 0.7927261, 0.8313194, 0.8287909, 0.83338493, 0.79565704, 0.848575, 0.8530962, 0.83280164, 0.8564683, 0.83644724, 0.8280004, 0.8140183, 0.84898454, 0.8338742, 0.8237476, 0.8290625, 0.84300905, 0.8347851, 0.8418187, 0.8170564, 0.81706566, 0.8533599, 0.8320587, 0.8469718, 0.81949544, 0.82440925, 0.82782257, 0.8246992, 0.8499895, 0.8490201, 0.82578117, 0.8291926, 0.8319535, 0.8161414, 0.8296528, 0.8230321, 0.8443931, 0.8304582, 0.8340438, 0.83416057, 0.84106183, 0.8331004, 0.83360034, 0.8239642, 0.8441903, 0.8089844, 0.8236913, 0.8161362, 0.8310066, 0.8260546, 0.8419728, 0.82511884, 0.8512709, 0.831359, 0.8274582, 0.8065929, 0.844686, 0.8211356, 0.823121, 0.81013083, 0.83370024, 0.82354397, 0.8305557, 0.8449038, 0.8207104, 0.83873534, 0.8281286, 0.8392199, 0.83759934, 0.8393958, 0.83306575, 0.8240741, 0.8371116, 0.8356936, 0.8481218, 0.83317655, 0.8312132, 0.82643485, 0.83591944, 0.8438033, 0.8489264, 0.806008, 0.8215903, 0.82474667, 0.86609024, 0.8345183, 0.8335483, 0.82631767, 0.82528764, 0.82341975, 0.8153999, 0.8153856, 0.83468825, 0.8082075, 0.83835137, 0.84294146, 0.837822, 0.8353095, 0.8247956, 0.8312996, 0.86279374, 0.8340869, 0.836127, 0.8201681, 0.8367364, 0.82568955, 0.82098347, 0.83872193, 0.8508029, 0.82816875, 0.8398019, 0.8443317, 0.82563, 0.84235877, 0.821334, 0.81202257, 0.8258507, 0.81935173, 0.81649524, 0.8447107, 0.8220015, 0.8364754, 0.8448838, 0.83018523, 0.8052829, 0.8018637, 0.84966826, 0.8299581, 0.7881981, 0.83341306, 0.82470375, 0.84676915, 0.82346153, 0.83027637, 0.83094966, 0.8366699, 0.83631074, 0.8442349, 0.8244504, 0.8330221, 0.82594603, 0.8318769, 0.81869096, 0.8195918, 0.84297943, 0.82347524, 0.8391664, 0.83784777, 0.8438097, 0.8398079, 0.845523, 0.821172, 0.83697265, 0.8308497, 0.8533069, 0.8311876, 0.819386, 0.83205014, 0.82950014, 0.8372433, 0.83552766, 0.8270146, 0.8250659, 0.8374982, 0.8200814, 0.8296347, 0.8195675, 0.83548534, 0.8172981, 0.8288748, 0.8333747, 0.7972408, 0.8319526, 0.8148995, 0.8221167, 0.8324018, 0.86901456, 0.835149, 0.82231617, 0.81517345, 0.82877296, 0.83611155, 0.83912265, 0.8434189, 0.8172988, 0.82106864, 0.83608407, 0.8349547, 0.8260887, 0.8341963, 0.81804764, 0.84652466, 0.82598937, 0.8327629, 0.8228918, 0.80959415, 0.84020686, 0.83521676, 0.84343374, 0.8289277, 0.8381523, 0.8299063, 0.8255364, 0.83651686, 0.81390077, 0.82109493, 0.8515008, 0.8249253, 0.8475062, 0.82486254, 0.80270356, 0.8282806, 0.83974236, 0.8470659, 0.8011639, 0.8432649, 0.8425553, 0.84025574, 0.81904155, 0.8175879, 0.837804, 0.84591633, 0.85026926, 0.8338147, 0.8333546, 0.85332173, 0.840234, 0.8285839, 0.835654, 0.8461609, 0.8296595, 0.8623277, 0.8308197, 0.8340941, 0.8459299, 0.8224696, 0.8263811, 0.84378076, 0.83141917, 0.83745736, 0.8238627, 0.8268472, 0.81247604, 0.8205689, 0.84448904, 0.82790035, 0.84172356, 0.8368238, 0.85960776, 0.8376289, 0.83893687, 0.8177121, 0.8282327, 0.8317246, 0.82406723, 0.81801647, 0.8061166, 0.8486181, 0.85037595, 0.8402866, 0.8070685, 0.8586791, 0.855323, 0.81077963, 0.83052766, 0.8351722, 0.84870046, 0.837308, 0.8543373, 0.83537066, 0.85450447, 0.8432937, 0.81880957, 0.84568185, 0.8256482, 0.8495664, 0.8217157, 0.83348906, 0.8414482, 0.83462405, 0.8373957, 0.83627266, 0.81327605, 0.8535249, 0.8130921, 0.8499348, 0.81397015, 0.84157246, 0.84326893, 0.822769, 0.83230144, 0.8133083, 0.8388142, 0.8294706, 0.82224905, 0.8333015, 0.8389375, 0.8333003, 0.8181444, 0.8151141, 0.82597464, 0.83702755, 0.8312939, 0.83488315, 0.8386957, 0.8526707, 0.82699794, 0.8252563, 0.82947505, 0.83867735, 0.8431508, 0.83127844, 0.837308, 0.83331656, 0.8441397, 0.8422606, 0.82983303, 0.84553313, 0.833338, 0.8335404, 0.82858473, 0.8164394, 0.8112584, 0.8247663, 0.8302882, 0.83403003, 0.81917095, 0.83331656, 0.834434, 0.8380214, 0.8153217, 0.8437917, 0.83805996, 0.8355828, 0.8477685, 0.8653701, 0.83741695, 0.82876897, 0.8512791, 0.82799256, 0.8195546, 0.82624596, 0.83971643, 0.8273434, 0.8234408, 0.8419663, 0.84072065, 0.8226485, 0.8238857, 0.8314723, 0.8310213, 0.84101284, 0.8486677, 0.8221156, 0.82255423, 0.84700257, 0.8394465, 0.82348025, 0.8450679, 0.8238537, 0.8355498, 0.8315647, 0.803399, 0.79351056, 0.8327365, 0.84836984, 0.83793443, 0.8264445, 0.770789, 0.84142154, 0.83039445, 0.836968, 0.83189106, 0.82331693, 0.8174736, 0.82817745, 0.83345634, 0.825445, 0.82910985, 0.8353714, 0.8342757, 0.80032545, 0.808373, 0.81736666, 0.84698474, 0.80496246, 0.8486664, 0.8417932, 0.8240295, 0.8430847, 0.8265067, 0.79642975, 0.84003216, 0.8353251, 0.83083886, 0.83701897, 0.8356624, 0.8424946, 0.8276332, 0.81996375, 0.8287382, 0.83839196, 0.8238971, 0.818773, 0.8333139, 0.82465076, 0.82566464, 0.8071488, 0.8484191, 0.8207708, 0.8236508, 0.82192534, 0.8298754, 0.831809, 0.85339236, 0.8323794, 0.84086365, 0.824078, 0.8379325, 0.83050203, 0.8348492, 0.82912064, 0.8231738, 0.8109282, 0.86365557, 0.838843, 0.8413479, 0.82125884, 0.82447374, 0.84796727, 0.8339546, 0.8454498, 0.85220265, 0.84388924, 0.81528074, 0.84598255, 0.83375615, 0.8419812, 0.84077585, 0.8264051, 0.8030528, 0.83243036, 0.8111014, 0.8199681, 0.8368539, 0.8144728, 0.8401933, 0.8286792, 0.8356156, 0.8189809, 0.8367231, 0.83128655, 0.82926184, 0.8252724, 0.8535771, 0.84407145, 0.8183758, 0.8266529, 0.83798975, 0.8132503, 0.83715177, 0.81506836, 0.8015162, 0.8426898, 0.83434105, 0.8371248, 0.8531964, 0.82767737, 0.8208583, 0.81839937, 0.8109814, 0.8311565, 0.8341434, 0.85129046, 0.8469095, 0.8396067, 0.849879, 0.8409487, 0.8213464, 0.81883043, 0.83956754, 0.8241442, 0.8437413, 0.84236884, 0.82584304, 0.7956215, 0.82934123, 0.8299498, 0.7983251, 0.82454026, 0.8338288, 0.8329049, 0.8298117, 0.8393364, 0.81063986, 0.8229532, 0.8215037, 0.83559, 0.824233, 0.8183284, 0.83931535, 0.84943897, 0.8332844, 0.84357065, 0.8429413, 0.8431956, 0.82212406, 0.83581495, 0.84942335, 0.8342752, 0.8351419, 0.81665474, 0.8445159, 0.8421014, 0.8525743, 0.8156127, 0.8398867, 0.8359987, 0.85161245, 0.8359557, 0.8249004, 0.80010754, 0.83644855, 0.8131746, 0.8347051, 0.8191979, 0.8373751, 0.81099033, 0.84824264, 0.82426083, 0.8425611, 0.82936156, 0.802312, 0.8264625, 0.848558, 0.8184142, 0.8125091, 0.83140707, 0.833135, 0.8210058, 0.83789337, 0.8166978, 0.84054077, 0.8137187, 0.83439475, 0.832976, 0.82539433, 0.85596675, 0.8246905, 0.83076835, 0.82574564, 0.8277796, 0.84360975, 0.8292794, 0.8233819, 0.8351329, 0.8328732, 0.8260585, 0.8370853, 0.8395071, 0.8655925, 0.81820506, 0.84665316, 0.83451205, 0.8292112, 0.8312796, 0.83047247, 0.8373751, 0.82127655, 0.81628644, 0.83425397, 0.8331382, 0.8264769, 0.8371463, 0.83214146, 0.8339653, 0.8275383, 0.8349568, 0.83770436, 0.82878155, 0.83388996, 0.83016384, 0.81648046, 0.8315896, 0.8007556, 0.8177861, 0.83356506, 0.8426712, 0.82936436, 0.8347851, 0.835206, 0.8410274, 0.821688, 0.82101434, 0.8413679, 0.837758, 0.8221179, 0.8374371, 0.8314661, 0.8335477, 0.8230182, 0.8403583, 0.82261807, 0.82157487, 0.84349686, 0.8459141, 0.8397646, 0.83315533, 0.82286626, 0.8462753, 0.79509026, 0.8260544, 0.8230921, 0.82741684, 0.83194125, 0.8286719, 0.7973652, 0.84087354, 0.84022856, 0.83548236, 0.8362801, 0.8361241, 0.8094038, 0.84681565, 0.83378553, 0.83059436, 0.8369176, 0.8213085, 0.836744, 0.8449812, 0.8264553, 0.81028056, 0.82084596, 0.81927234, 0.82787204, 0.84490883, 0.82149297, 0.82825094, 0.83636725, 0.82577056, 0.8257763, 0.84046197, 0.8240717, 0.832321, 0.84218454, 0.83084816, 0.8247654, 0.80397815, 0.8329318, 0.83368707, 0.8272677, 0.8330032, 0.83302665, 0.8183633, 0.83589953, 0.8717111, 0.8068293, 0.8433986, 0.8314567, 0.82568586, 0.8328991, 0.828744, 0.8357026, 0.8252133, 0.8167323, 0.8484549, 0.84192073, 0.82440245, 0.8228444, 0.7942469, 0.8524098, 0.81164885, 0.84172827, 0.82100403, 0.839935, 0.8218829, 0.824882, 0.8249438, 0.84581757, 0.83966535, 0.82897156, 0.84245414, 0.81923115, 0.7986906, 0.8208853, 0.82102644, 0.8415211, 0.83118975, 0.8182299, 0.822073, 0.74519724, 0.8329443, 0.8198012, 0.83274305, 0.8325486, 0.85070705, 0.8352173, 0.8286466, 0.8420194, 0.8391738, 0.84361666, 0.8111268, 0.8175836, 0.84642744, 0.8364368, 0.825626, 0.8382182, 0.8371393, 0.8459826, 0.8208333, 0.84019494, 0.8272113, 0.8330354, 0.8410975, 0.81659245, 0.8310346, 0.8170591, 0.836403, 0.83875096, 0.82698786, 0.82750595, 0.8051401, 0.833341, 0.8245501, 0.8361479, 0.8389682, 0.84916365, 0.82718414, 0.83456564, 0.8231148, 0.8346755, 0.8238271, 0.8303251, 0.8228918, 0.84195805, 0.8245026, 0.8346302, 0.83268297, 0.837033, 0.8021455, 0.82234484, 0.82817596, 0.8387377, 0.8442213, 0.8314148, 0.8322277, 0.84472436, 0.822684, 0.83098936, 0.83859295, 0.8392021, 0.81490433, 0.805726, 0.82738346, 0.81509435, 0.82910776, 0.83093816, 0.8212971, 0.8419976, 0.84573144, 0.8380136, 0.83111095, 0.8313869, 0.82673883, 0.8387537, 0.8336322, 0.83888304, 0.82739127, 0.83274895, 0.82097137, 0.8451212, 0.8302818, 0.8179082, 0.8272898, 0.82921964, 0.85659355, 0.8426473, 0.8104605, 0.8016788, 0.8383768, 0.8400434, 0.8400434, 0.83393306, 0.83013505, 0.83883154, 0.8268525, 0.8091738, 0.83326274, 0.8371485, 0.81517506, 0.82306784, 0.835258, 0.8310863, 0.8307175, 0.8307003, 0.82685924, 0.8402798, 0.83376753, 0.8217279, 0.8384016, 0.83040875, 0.8314782, 0.8342347, 0.77359354, 0.82027364, 0.83792603, 0.82625735, 0.8334819, 0.81662875, 0.8283202, 0.82282823, 0.80164397, 0.8173493, 0.84642076, 0.8350798, 0.84334064, 0.85899776, 0.830005, 0.8417604, 0.8357991, 0.8025255, 0.833258, 0.84063447, 0.83414775, 0.8402418, 0.8248076, 0.82612604, 0.8222007, 0.8203653, 0.8336544, 0.84482723, 0.8035451, 0.8132177, 0.83576214, 0.8340573, 0.8454467, 0.7921702, 0.8353037, 0.8016162, 0.81014156, 0.83844405, 0.83495516, 0.8226316, 0.8319534, 0.80113447, 0.8459554, 0.8255278, 0.81533694, 0.83014786, 0.775635, 0.81381124, 0.8281927, 0.83108497, 0.83466554, 0.8332703, 0.83245873, 0.8082844, 0.827385, 0.82506347, 0.8318803, 0.8371647, 0.823799, 0.8359112, 0.84329927, 0.82646185, 0.8498795, 0.8408847, 0.8412617, 0.84314847, 0.82959896, 0.84326565, 0.8247101, 0.84463936, 0.8400912, 0.8409666, 0.8225546, 0.81496865, 0.833206, 0.8373447, 0.83101207, 0.8190916, 0.84169394, 0.85093826, 0.8281541, 0.82964826, 0.83117026, 0.82901394, 0.8450123, 0.8213633, 0.8471934, 0.8102581, 0.8531964, 0.84196025, 0.83989865, 0.815404, 0.8284811, 0.8527125, 0.7985408, 0.83540666, 0.8379424, 0.82887363, 0.8334612, 0.8112518, 0.8395499, 0.8256495, 0.8408245, 0.8383006, 0.82626206, 0.8227781, 0.80760866, 0.8299332, 0.81946284, 0.84295917, 0.83731055, 0.8385697, 0.8230991, 0.8486968, 0.82680845, 0.8299458, 0.8096532, 0.82526433, 0.8265974, 0.8235638, 0.8402781, 0.8421579, 0.82310456, 0.8264413, 0.82444185, 0.8290528, 0.8388977, 0.8442793, 0.8344211, 0.8409292, 0.8329283, 0.83394855, 0.83255255, 0.8421633, 0.8342919, 0.80113155, 0.84437984, 0.8263096, 0.8286796, 0.830507, 0.82921106, 0.8433032, 0.82814217, 0.84313804, 0.8644138, 0.84041905, 0.83795995, 0.83627135, 0.8307701, 0.84263486, 0.8223004, 0.82965803, 0.84886336, 0.83327824, 0.83963364, 0.8436987, 0.82414144, 0.8337649, 0.85525423, 0.83634627, 0.83389175, 0.8366287, 0.83950293, 0.8362983, 0.82912713, 0.8246448, 0.8123487, 0.8436919, 0.83354336, 0.8463558, 0.833771, 0.83208823, 0.84879166, 0.8531659, 0.84433705, 0.8352608, 0.8364105, 0.8419434, 0.8299018, 0.8215151, 0.83029884, 0.84366965, 0.8061219, 0.81687546, 0.8562092, 0.83663327, 0.8156734, 0.82701355, 0.83091897, 0.8460645, 0.83392364, 0.8307229, 0.8269232, 0.84597987, 0.8417371, 0.8342773, 0.8525981, 0.8054081, 0.8306875, 0.8263018, 0.835723, 0.8475656, 0.83606696, 0.81732166, 0.8278688, 0.8367219, 0.8174772, 0.81982666, 0.850714, 0.83357394, 0.82418925, 0.8207266, 0.83697736, 0.8016935, 0.842086, 0.83416367, 0.8226924, 0.8429818, 0.83349013, 0.8439294, 0.82793486, 0.8284986, 0.8404654, 0.83548975, 0.83104897, 0.82829607, 0.819237, 0.8404995, 0.8219169, 0.816309, 0.8284749, 0.8341, 0.8417786, 0.83070964, 0.82236844, 0.8057863, 0.8267922, 0.8422292, 0.84444135, 0.8392782, 0.8317747, 0.8517899, 0.8541661, 0.85819113, 0.8327031, 0.8296359, 0.8235604, 0.8482398, 0.8567316, 0.8369028, 0.84269416, 0.83501107, 0.8433957, 0.8352806, 0.8273695, 0.8250013, 0.8276145, 0.81960887, 0.8396715, 0.8538766, 0.812608, 0.8062121, 0.8074909, 0.85050327, 0.83393, 0.83203185, 0.8357801, 0.8248705, 0.835219, 0.83270586, 0.8492794, 0.84085333, 0.8369423, 0.8522589, 0.83836454, 0.8386243, 0.8197949, 0.83133054, 0.824506, 0.85307115, 0.842077, 0.8256294, 0.8267892, 0.8398881, 0.8155477, 0.8190564, 0.83410996, 0.8260825, 0.8415975, 0.83549494, 0.82635117, 0.8392046, 0.8589425, 0.8480771, 0.844159, 0.8247129, 0.8241579, 0.81482744, 0.83805704, 0.8286649, 0.8156702, 0.81261295, 0.82705986, 0.8276737, 0.8307645, 0.80764097, 0.8284837, 0.8286457, 0.8328279, 0.84471756, 0.84877497, 0.8301422, 0.8117001, 0.8402357, 0.82832783, 0.8244121, 0.8438906, 0.83479655, 0.8397072, 0.839149, 0.83414483, 0.8328731, 0.83128095, 0.81819326, 0.8252948, 0.8238395, 0.8257073, 0.843364, 0.8242591, 0.8141236, 0.81674564, 0.8406251, 0.83974636, 0.8126797, 0.8400879, 0.8423096, 0.8131153, 0.8311367, 0.83042765, 0.81169695, 0.8410169, 0.82305497, 0.83383214, 0.82764924, 0.8144273, 0.8258804, 0.808758, 0.8400879, 0.8342885, 0.8463929, 0.84115094, 0.8486014, 0.8068302, 0.82167804, 0.80977434, 0.8305113, 0.83574104, 0.8292598, 0.82996064, 0.82547385, 0.8242503, 0.83990747, 0.8530653, 0.8267162, 0.8245912, 0.84028476, 0.83492553, 0.8488998, 0.81581044, 0.8200814, 0.8461577, 0.81784934, 0.80780053, 0.83618295, 0.8398019, 0.82074726, 0.8311773, 0.8162877, 0.81328446, 0.82840145, 0.80410624, 0.8270536, 0.849629, 0.8327741, 0.82305497, 0.8447282, 0.8154442, 0.8438024, 0.8254532, 0.80933386, 0.82858545, 0.8491307, 0.83517915, 0.8236338, 0.81419003, 0.8422119, 0.8444759, 0.83512646, 0.83480215, 0.8302883, 0.8248567, 0.83042544, 0.8402287, 0.83911276, 0.83693916, 0.83571494, 0.8302149, 0.8558442, 0.8459959, 0.8188352, 0.843319, 0.83020884, 0.83726305, 0.8359707, 0.8309616, 0.83610845, 0.8336458, 0.83222705, 0.81775916, 0.82976776, 0.8474778, 0.8348928, 0.8373843, 0.8424596, 0.8415535, 0.84969074, 0.829204, 0.82129705, 0.8270769, 0.8263533, 0.8401349, 0.83052313, 0.8241456, 0.81119287, 0.81827456, 0.8361376, 0.8227296, 0.8403464, 0.830618, 0.8065341, 0.8222937, 0.82753825, 0.8161391, 0.8407972, 0.8430538, 0.8311566, 0.8259915, 0.8344044, 0.85014075, 0.8281798, 0.82162505, 0.849182, 0.81796396, 0.82223034, 0.8167014, 0.80133003, 0.82815593, 0.82533973, 0.8093457, 0.8313713, 0.8481678, 0.83652997, 0.832069, 0.840487, 0.8514406, 0.83819765, 0.796651, 0.82296854, 0.7976281, 0.84285194, 0.832321, 0.8406658, 0.84361035, 0.8370308, 0.84494317, 0.82646066, 0.8247994, 0.8388979, 0.8282041, 0.82536435, 0.83104146, 0.8403685, 0.8483408, 0.829537, 0.8265771, 0.8198299, 0.82755995, 0.83386886, 0.8496166, 0.8398436, 0.83447, 0.83313733, 0.84043133, 0.82741433, 0.81899744, 0.83070284, 0.8202688, 0.82550013, 0.8280003, 0.8238818, 0.8235538, 0.8325687, 0.82588756, 0.8322121, 0.8354352, 0.83653504, 0.76364577, 0.84968877, 0.8272613, 0.83408934, 0.8530459, 0.81914306, 0.83860373, 0.83520615, 0.84828407, 0.84872, 0.8512874, 0.819059, 0.8010517, 0.8255278, 0.8342661, 0.8383392, 0.8261256, 0.8412716, 0.8379251, 0.8388757, 0.8236968, 0.8340191, 0.81951594, 0.8482428, 0.8543061, 0.8315016, 0.83760244, 0.83972824, 0.8196549, 0.8372865, 0.83224016, 0.82654446, 0.8266876, 0.8261959, 0.82816446, 0.8321021, 0.8338068, 0.85445726, 0.83998185, 0.8502017, 0.831863, 0.8269947, 0.83562666, 0.8205413, 0.826984, 0.81229234, 0.8485016, 0.833302, 0.85662764, 0.82030845, 0.83646095, 0.8437804, 0.8375343, 0.85119325, 0.8312924, 0.8039288, 0.83340883, 0.8362489, 0.841101, 0.82486814, 0.84633917, 0.8584638, 0.82544017, 0.8381468, 0.8617906, 0.83219403, 0.8178295, 0.82870483, 0.83668727, 0.8205746, 0.829661, 0.8271715, 0.83226866, 0.8393672, 0.84371454, 0.841734, 0.83561015, 0.8321261, 0.8354934, 0.8459251, 0.8164744, 0.81615216, 0.7952562, 0.8402386, 0.83942604, 0.8157347, 0.83069074, 0.8400248, 0.8508572, 0.8301792, 0.8319701, 0.80092865, 0.8186882, 0.82263803, 0.8279765, 0.8431508, 0.8351909, 0.83927345, 0.82599306, 0.82826096, 0.8254791, 0.83368707, 0.8425599, 0.8492608, 0.82235044, 0.84326494, 0.83629525, 0.84241873, 0.8458042, 0.82988554, 0.82605636, 0.83106136, 0.8186127, 0.82259965, 0.84503675, 0.83617926, 0.8206149, 0.81538653, 0.8376762, 0.8117887, 0.8218867, 0.85125226, 0.8108438, 0.84243655, 0.8189567, 0.84027714, 0.8191472, 0.7978317, 0.8329957, 0.8426898, 0.81842226, 0.81506836, 0.838196, 0.814845, 0.8288331, 0.8033678, 0.8167878, 0.81823385, 0.82875454, 0.82183105, 0.8327915, 0.8163461, 0.8300321, 0.7980916, 0.8246938, 0.831465, 0.8130777, 0.822637, 0.8407016, 0.841443, 0.83664274, 0.8424547, 0.83102214, 0.82894284, 0.8252724, 0.8300451, 0.8152111, 0.82027364, 0.87230235, 0.8404246, 0.82415813, 0.84893423, 0.8308752, 0.8354543, 0.8338413, 0.8433914, 0.8237489, 0.84354365, 0.8215681, 0.84463763, 0.83172286, 0.8235738, 0.83277017, 0.8283726, 0.8225993, 0.8469242, 0.8129463, 0.83859086, 0.848844, 0.8317107, 0.8356712, 0.83810705, 0.8110985, 0.84466183, 0.825839, 0.8328111, 0.8552928, 0.83139545, 0.8279463, 0.8471556, 0.82733214, 0.8202124, 0.7971105, 0.8521049, 0.84930253, 0.834319, 0.83542174, 0.8299085, 0.84620464, 0.82756746, 0.8295434, 0.82700515, 0.83124834, 0.8188243, 0.8248494, 0.8435464, 0.82130826, 0.8398436, 0.84448904, 0.8062656, 0.85568494, 0.8330568, 0.833213, 0.83280116, 0.81721085, 0.83392906, 0.84452754, 0.8362735, 0.837844, 0.83688104, 0.8248964, 0.82981205, 0.8333997, 0.8343624, 0.8447597, 0.83282477, 0.8479807, 0.8294326, 0.83391315, 0.85013497, 0.8177204, 0.85662067, 0.8526392, 0.83170635, 0.8041912, 0.84375364, 0.8293948, 0.8298864, 0.860545, 0.8300064, 0.793487, 0.8308322, 0.81721216, 0.8404414, 0.83558977, 0.8211868, 0.81203485, 0.8239884, 0.8261714, 0.8409662, 0.8366137, 0.83793265, 0.8200872, 0.8271583, 0.83434576, 0.8075362, 0.8236931, 0.8284328, 0.8329697, 0.82602173, 0.8366385, 0.84109586, 0.8489249, 0.8338075, 0.8313135, 0.8289682, 0.8280109, 0.83029467, 0.8154931, 0.84368277, 0.82005435, 0.8330517, 0.83583874, 0.8218164, 0.83171904, 0.83993036, 0.8386697, 0.8484984, 0.83641547, 0.8162679, 0.82590556, 0.82161766, 0.8271583, 0.8479454, 0.8339412, 0.79636776, 0.84348935, 0.83139116, 0.8241299, 0.8200936, 0.83628356, 0.8278006, 0.8289423, 0.81597257, 0.842127, 0.8239998, 0.8371994, 0.8238376, 0.8305402, 0.83461064, 0.83493394, 0.8519905, 0.8055164, 0.8281906, 0.83038163, 0.83118814, 0.8351117, 0.81887424, 0.8408102, 0.8261911, 0.8296441, 0.83203167, 0.82749146, 0.8490867, 0.8307537, 0.8248653, 0.84995955, 0.8251391, 0.8162513, 0.84085214, 0.8344883, 0.8222962, 0.8354765, 0.8223302, 0.8334339, 0.8365775, 0.8276971, 0.8196205, 0.824374, 0.8225694, 0.81659126, 0.8099976, 0.85454667, 0.8313856, 0.8402532, 0.8309634, 0.83266413, 0.8629089, 0.8184293, 0.8137513, 0.8290168, 0.78959954, 0.8166748, 0.83789957, 0.8569797, 0.8304943, 0.83194464, 0.8421809, 0.84172577, 0.840475, 0.86052537, 0.8276581, 0.80785775, 0.84365433, 0.83341414, 0.8373944, 0.8107085, 0.8224026, 0.81723833, 0.80930465, 0.8245556, 0.8260064, 0.85511535, 0.83390355, 0.85332894, 0.8404759, 0.82750136, 0.820375, 0.846874, 0.8260631, 0.80333686, 0.8386893, 0.80416304, 0.8319491, 0.8320715, 0.81724894, 0.8193073, 0.82261056, 0.8500666, 0.81536686, 0.8304577, 0.83833855, 0.83537626, 0.82667726, 0.8307379, 0.83701247, 0.8239638, 0.82745224, 0.82826644, 0.86071986, 0.82452476, 0.817019, 0.8429467, 0.8363858, 0.8128397, 0.83451337, 0.835652, 0.8265466, 0.83825165, 0.8318111, 0.84104824, 0.8441936, 0.84445065, 0.814588, 0.8483988, 0.822626, 0.817345, 0.82839596, 0.82530797, 0.8399657, 0.7635078, 0.8423833, 0.83590245, 0.83990514, 0.82717794, 0.81082404, 0.8188308, 0.8309811, 0.84343725, 0.84419304, 0.84077215, 0.8142789, 0.83152187, 0.82971084, 0.83259606, 0.83304244, 0.82468605, 0.8388762, 0.8274781, 0.822984, 0.8232563, 0.8133552, 0.8393071, 0.8393071, 0.8380611, 0.8380611, 0.8265512, 0.8365175, 0.84255797, 0.8373443, 0.82701576, 0.82262665, 0.8385458, 0.8141329, 0.8502438, 0.82125217, 0.8316402, 0.83329505, 0.8165529, 0.8260955, 0.82652617, 0.8486569, 0.82918274, 0.8387304, 0.83180034, 0.8420122, 0.8321035, 0.8328991, 0.83070195, 0.8190442, 0.8277979, 0.7996887, 0.8154954, 0.816526, 0.8275059, 0.8390231, 0.8433981, 0.842166, 0.81992745, 0.83042353, 0.8228007, 0.84633994, 0.8360341, 0.84144306, 0.8337503, 0.832118, 0.8140468, 0.8225259, 0.84466887, 0.8521511, 0.8510021, 0.82836103, 0.8463569, 0.828577, 0.82839423, 0.849392, 0.8326011, 0.8095008, 0.8394734, 0.8326218, 0.8403114, 0.82701784, 0.841979, 0.85444665, 0.8248702, 0.8374746, 0.82203454, 0.83932006, 0.83932006, 0.8261916, 0.81741583, 0.83138907, 0.8251346, 0.82156664, 0.8453959, 0.8304889, 0.8271566, 0.81505466, 0.8405439, 0.8166396, 0.81580144, 0.83273584, 0.82924676, 0.84516346, 0.84043175, 0.8464827, 0.830096, 0.8267715, 0.84912, 0.85111135, 0.846917, 0.8212565, 0.8212565, 0.81507856, 0.83759, 0.84630215, 0.8401053, 0.8401053, 0.831672, 0.80718887, 0.8329502, 0.84672767, 0.8469821, 0.83799887, 0.8423464, 0.83055073, 0.8258194, 0.8334774, 0.8388822, 0.84742635, 0.8509588, 0.8283839, 0.82839394, 0.8366271, 0.8507887, 0.82383156, 0.8475421, 0.83355725, 0.83233017, 0.8301204, 0.8284027, 0.86075085, 0.82766145, 0.8293979, 0.8412887, 0.8363479, 0.83195037, 0.828935, 0.8318094, 0.8163839, 0.82605624, 0.8082237, 0.83119744, 0.83411306, 0.83680075, 0.82001084, 0.8290152, 0.80694205, 0.8423363, 0.8255952, 0.8155541, 0.82188934, 0.8199329, 0.8220069, 0.8069832, 0.836768, 0.82899076, 0.8356051, 0.8052433, 0.82699794, 0.8187513, 0.8248267, 0.81784266, 0.82643056, 0.81310475, 0.81885433, 0.79933715, 0.8372444, 0.844916, 0.84022295, 0.8268113, 0.82336426, 0.8530836, 0.83863306, 0.83293563, 0.8255311, 0.83785146, 0.8148248, 0.83269995, 0.837609, 0.8155056, 0.8460308, 0.82227683, 0.8021588, 0.8231687, 0.8325166, 0.8309432, 0.8577189, 0.8296138, 0.83192533, 0.8421304, 0.8198365, 0.8366804, 0.8414055, 0.84159106, 0.84698516, 0.8227435, 0.80486965, 0.81616515, 0.8527695, 0.84269094, 0.8311727, 0.8291738, 0.8446359, 0.8151173, 0.83940816, 0.8452378, 0.82421416, 0.819386, 0.8251703, 0.83165634, 0.83424175, 0.8452378, 0.83422, 0.8223476, 0.807163, 0.8410815, 0.8436019, 0.82551223, 0.84361875, 0.8226318, 0.85254693, 0.82895046, 0.82130176, 0.8276864, 0.8353688, 0.8317587, 0.84308714, 0.82006824, 0.83944595, 0.84912807, 0.8128375, 0.82592124, 0.8253466, 0.7991513, 0.8347357, 0.8476991, 0.8422104, 0.81581914, 0.8142795, 0.8105227, 0.83018196, 0.83465576, 0.8084139, 0.829446, 0.8212712, 0.83133024, 0.82233524, 0.8518831, 0.83143234, 0.82864714, 0.8168081, 0.8443025, 0.8262357, 0.8293243, 0.8473677, 0.83075756, 0.82447577, 0.8213079, 0.8393026, 0.82771254, 0.82429975, 0.840387, 0.8638736, 0.8216548, 0.82856584, 0.8252996, 0.8402903, 0.83119744, 0.8401375, 0.80058855, 0.82013696, 0.82072353, 0.82717246, 0.83591133, 0.84381866, 0.84738183, 0.83594847, 0.840387, 0.840387, 0.83823264, 0.83778423, 0.8395255, 0.8388296, 0.8298535, 0.8333394, 0.8163294, 0.8149868, 0.84185255, 0.8406051, 0.8406051, 0.83992416, 0.82974035, 0.82626665, 0.83345133, 0.8471537, 0.8256021, 0.83376914, 0.8285199, 0.8288705, 0.8406404, 0.8373424, 0.8383988, 0.7946748, 0.83923084, 0.80822694, 0.8287633, 0.8503217, 0.815958, 0.8169938, 0.8156337, 0.81223834, 0.82372254, 0.8258563, 0.82946265, 0.8420446, 0.8312336, 0.8203036, 0.84218615, 0.7959664, 0.8376615, 0.83972996, 0.83842033, 0.8323408, 0.84390974, 0.8474024, 0.84597254, 0.849366, 0.8364337, 0.8127824, 0.83723426, 0.8496552, 0.8515064, 0.8365749, 0.83274674, 0.8248886, 0.826245, 0.83318776, 0.8281358, 0.84817886, 0.8304459, 0.8273772, 0.7971125, 0.8265026, 0.8117001, 0.8255192, 0.8265194, 0.8370407, 0.8333936, 0.8264331, 0.8212284, 0.81901103, 0.83407307, 0.84996367, 0.8141653, 0.8314911, 0.8354825, 0.8364487, 0.8273403, 0.8274463, 0.8325966, 0.8534519, 0.8325367, 0.82569355, 0.80486965, 0.8529694, 0.8456085, 0.81622934, 0.83501285, 0.8427023, 0.84013885, 0.8286233, 0.84088457, 0.8296175, 0.83927345, 0.8600321, 0.8267819, 0.82126445, 0.83823043, 0.82117313, 0.8269353, 0.83948094, 0.8363136, 0.7747259, 0.83361393, 0.8437306, 0.8264712, 0.83304965, 0.8617471, 0.83789295, 0.82382584, 0.8587736, 0.8504868, 0.80296206, 0.8152577, 0.82824093, 0.84774256, 0.8383004, 0.8380303, 0.83200806, 0.84889066, 0.82580245, 0.820353, 0.8302354, 0.8181235, 0.84356797, 0.84253657, 0.8419947, 0.8419947, 0.83406746, 0.8455807, 0.8207107, 0.8154867, 0.8261221, 0.85027605, 0.8342063, 0.802979, 0.82273287, 0.83661556, 0.8249055, 0.81471074, 0.83791405, 0.83993715, 0.8412793, 0.81516284, 0.82675916, 0.81877565, 0.8255982, 0.8250008, 0.83956754, 0.85551786, 0.81459373, 0.8314017, 0.82315916, 0.8275386, 0.82466215, 0.84488523, 0.837612, 0.8129062, 0.85086155, 0.84650874, 0.8390143, 0.8382348, 0.83644027, 0.8182209, 0.84727275, 0.8365613, 0.8303479, 0.83270776, 0.82095057, 0.8205147, 0.850294, 0.79624635, 0.8318601, 0.81528187, 0.8174706, 0.83608896, 0.8116881, 0.8072379, 0.8215856, 0.83199567, 0.8255278, 0.816167, 0.84287757, 0.83218825, 0.8059392, 0.810344, 0.8339778, 0.8239957, 0.8464864, 0.8209266, 0.79256135, 0.83826786, 0.80816454, 0.83602625, 0.8421426, 0.82656765, 0.83744794, 0.82822, 0.8453856, 0.82939696, 0.8328346, 0.86639714, 0.8376659, 0.8380541, 0.8135398, 0.8311827, 0.82468706, 0.8097605, 0.7998518, 0.85374504, 0.8241881, 0.8310512, 0.8436492, 0.82661605, 0.8365275, 0.8347482, 0.82766825, 0.81660295, 0.8393023, 0.824381, 0.82643646, 0.82621586, 0.8343752, 0.8237816, 0.84316146, 0.8412872, 0.8410416, 0.827505, 0.81474537, 0.8284771, 0.81816834, 0.83228564, 0.84828633, 0.84235543, 0.83695614, 0.8347148, 0.85328305, 0.81485814, 0.83103174, 0.8272956, 0.8263325, 0.83369905, 0.84851253, 0.8475324, 0.8147834, 0.82427686, 0.84217095, 0.8317811, 0.8345334, 0.8345749, 0.8349405, 0.8306191, 0.83572, 0.8192608, 0.8263126, 0.8258522, 0.8150693, 0.8288653, 0.85898596, 0.82309246, 0.8279921, 0.83016807, 0.83329916, 0.8318333, 0.8508045, 0.84741664, 0.8537432, 0.81744486, 0.84581476, 0.8430964, 0.8257433, 0.83519316, 0.8392061, 0.84417224, 0.8433491, 0.8366471, 0.8224738, 0.81920636, 0.82421106, 0.8420119, 0.84550047, 0.8435951, 0.82910955, 0.8220447, 0.83714294, 0.8277625, 0.8261541, 0.8289875, 0.81835926, 0.82256633, 0.8325768, 0.84471315, 0.8365629, 0.8142082, 0.8444759, 0.8402912, 0.83147144, 0.8379786, 0.8099106, 0.8156878, 0.82196087, 0.83455193, 0.824911, 0.8329365, 0.84018797, 0.8370156, 0.8216858, 0.8314292, 0.82321554, 0.8212797, 0.82227683, 0.81393963, 0.82898194, 0.8421116, 0.835909, 0.8394859, 0.8310863, 0.8178827, 0.81606, 0.8302062, 0.8333481, 0.82284486, 0.8274474, 0.850089, 0.826913, 0.82708955, 0.8464264, 0.8187237, 0.7981602, 0.83218694, 0.82650584, 0.83656305, 0.84206825, 0.83282566, 0.8245706, 0.80361444, 0.83254004, 0.8254507, 0.8304417, 0.8178548, 0.8235736, 0.8152359, 0.82687545, 0.8284977, 0.8338613, 0.84011364, 0.8317528, 0.8486942, 0.8404995, 0.82617587, 0.8314597, 0.8509118, 0.83408076, 0.83014816, 0.84743124, 0.8221958, 0.8187313, 0.8206167, 0.8476242, 0.83400464, 0.81528336, 0.82881224, 0.8290495, 0.82911813, 0.82268494, 0.8290322, 0.8268451, 0.81846166, 0.83133006, 0.8067644, 0.8392986, 0.82734317, 0.81540126, 0.8324988, 0.8484419, 0.84296155, 0.85444665, 0.84883237, 0.7976649, 0.8457834, 0.8399184, 0.8394848, 0.8471192, 0.8366227, 0.83810043, 0.82988775, 0.83262974, 0.8258153, 0.84017104, 0.85736364, 0.82886165, 0.8526892, 0.8264132, 0.82859397, 0.8257722, 0.82472146, 0.79314274, 0.824606, 0.79389393, 0.83260137, 0.8518361, 0.83441895, 0.8334527, 0.8099697, 0.8360367, 0.8302893, 0.8242763, 0.83169276, 0.8169894, 0.83193403, 0.8382743, 0.82787234, 0.8408669, 0.83430815, 0.849651, 0.83726424, 0.8175329, 0.8206578, 0.84133303, 0.85020006, 0.83312815, 0.8207821, 0.8456211, 0.83469874, 0.8340572, 0.84057313, 0.8278824, 0.8269714, 0.82922316, 0.8188858, 0.8126728, 0.8450157, 0.8382749, 0.83515066, 0.83679557, 0.832565, 0.85267735, 0.81127745, 0.8351201, 0.83421993, 0.8268587, 0.8416241, 0.823059, 0.8484851, 0.80804604, 0.78348213, 0.82887626, 0.8356624, 0.83278114, 0.8339328, 0.8286093, 0.82957923, 0.84437484, 0.82931554, 0.8312334, 0.8619407, 0.81225103, 0.8393748, 0.8354144, 0.8181357, 0.8272602, 0.82735455, 0.80789447, 0.82045674, 0.8379739, 0.85999864, 0.8165388, 0.81782067, 0.8387407, 0.8257995, 0.8214859, 0.8217251, 0.82619375, 0.8326079, 0.82426155, 0.85217494, 0.85217494, 0.8333052, 0.84772116, 0.8460618, 0.8115789, 0.83733904, 0.8353311, 0.84945107, 0.8227013, 0.8201783, 0.82994044, 0.8293444, 0.8335063, 0.84010994, 0.81650865, 0.8178879, 0.8270468, 0.83572334, 0.83303255, 0.86566794, 0.8400649, 0.8204083, 0.8326249, 0.87182313, 0.84802735, 0.83411366, 0.8473371, 0.848162, 0.83501333, 0.8491509, 0.83844304, 0.83299834, 0.8459955, 0.81709665, 0.8269933, 0.8279008, 0.8449209, 0.8064797, 0.8485665, 0.82033, 0.82341444, 0.80316883, 0.8346133, 0.82510537, 0.75406414, 0.84789425, 0.8250776, 0.8371667, 0.8335916, 0.82953435, 0.8487553, 0.8425244, 0.833957, 0.8310269, 0.8287845, 0.8359665, 0.8257842, 0.82819873, 0.8570262, 0.82066035, 0.8391085, 0.8370323, 0.8342949, 0.83227617, 0.8367816, 0.8298004, 0.8355404, 0.79942745, 0.8199829, 0.8265678, 0.82836497, 0.819982, 0.82619715, 0.84337014, 0.82672447, 0.8374215, 0.8200317, 0.8219865, 0.8500632, 0.80710715, 0.8270451, 0.816225, 0.8220166, 0.8310786, 0.8206652, 0.8371777, 0.8455327, 0.8280279, 0.83268905, 0.82483417, 0.84515953, 0.8331048, 0.8359854, 0.83155936, 0.8433346, 0.817225, 0.8253024, 0.82878125, 0.8324315, 0.839355, 0.8298152, 0.84160525, 0.8378026, 0.824362, 0.83474356, 0.83873725, 0.8510048, 0.8435994, 0.81473655, 0.80684084, 0.8298285, 0.8279218, 0.8365924, 0.8210767, 0.82625425, 0.84462047, 0.849769, 0.829487, 0.8342569, 0.81560314, 0.8326031, 0.8329176, 0.84911084, 0.8339391, 0.83567417, 0.84830457, 0.8363481, 0.83938444, 0.85833377, 0.8131188, 0.8259489, 0.8450594, 0.84228235, 0.83962804, 0.824984, 0.8236055, 0.8548288, 0.8324832, 0.85174334, 0.8297525, 0.8321213, 0.8229154, 0.829708, 0.8512752, 0.8401256, 0.82874894, 0.8287724, 0.8376116, 0.8219213, 0.8158955, 0.8436457, 0.8229439, 0.8515494, 0.8251766, 0.8379666, 0.83161414, 0.82570904, 0.8443748, 0.8327903, 0.81107795, 0.8087681, 0.82783526, 0.8360027, 0.82221633, 0.8242449, 0.82547, 0.82974666, 0.8147428, 0.8472737, 0.83915156, 0.8248198, 0.8267188, 0.8261221, 0.8369111, 0.81282926, 0.8392723, 0.829829, 0.8226354, 0.83202904, 0.8415328, 0.82448786, 0.8394734, 0.82901895, 0.83938247, 0.84861684, 0.8418236, 0.8296171, 0.80527943, 0.8407587, 0.8174569, 0.8429024, 0.8335181, 0.84547603, 0.8341212, 0.8158034, 0.827854, 0.8473827, 0.8277878, 0.8308682, 0.82534826, 0.85864675, 0.85010564, 0.8420462, 0.84119403, 0.83335197, 0.8346557, 0.8597106, 0.8395891, 0.8346789, 0.8281095, 0.8123875, 0.86600184, 0.8417729, 0.8356199, 0.83574474, 0.8538153, 0.8217635, 0.80106944, 0.83162236, 0.82442987, 0.8275009, 0.80908215, 0.8441855, 0.83481586, 0.79142845, 0.84912, 0.84423435, 0.81902593, 0.8245202, 0.8348829, 0.8352845, 0.827058, 0.85052854, 0.8281663, 0.8350393, 0.8439543, 0.8320573, 0.8215583, 0.83924603, 0.82446665, 0.82737803, 0.83213013, 0.82132465, 0.83494794, 0.8036718, 0.8304497, 0.8327847, 0.8454189, 0.8294079, 0.8404178, 0.83644277, 0.85470825, 0.82852125, 0.86272043, 0.82591444, 0.8303133, 0.8210237, 0.82881576, 0.83038306, 0.8365752, 0.8313075, 0.83014125, 0.83822185, 0.8408857, 0.8323126, 0.82233375, 0.8187432, 0.84693223, 0.82809985, 0.8279065, 0.8407759, 0.8246408, 0.8299891, 0.8252948, 0.8228084, 0.8475685, 0.83949494, 0.8369967, 0.8328682, 0.83095443, 0.8098953, 0.8562862, 0.8245711, 0.83675975, 0.8264152, 0.82088006, 0.8392332, 0.8287155, 0.81922597, 0.81857336, 0.8018671, 0.8247071, 0.8419172, 0.84947, 0.8266571, 0.8299808, 0.8214849, 0.8214789, 0.85333484, 0.83337855, 0.8378124, 0.8539079, 0.8318344, 0.8452743, 0.8350272, 0.8549168, 0.84136987, 0.8136483, 0.811283, 0.83302665, 0.8113398, 0.7900069, 0.82555115, 0.8351326, 0.8259541, 0.8303864, 0.83449316, 0.8168611, 0.8295567, 0.85768694, 0.8432443, 0.8446251, 0.823, 0.83631796, 0.8262435, 0.82572085, 0.8122068, 0.8283093, 0.84210616, 0.83625954, 0.846879, 0.8381382, 0.8492461, 0.8072963, 0.81840956, 0.82985395, 0.8348212, 0.8261059, 0.8238362, 0.8212046, 0.821581, 0.8240676, 0.83342963, 0.80938303, 0.8391547, 0.83558017, 0.8525528, 0.83547056, 0.81158733, 0.8295783, 0.82753897, 0.820171, 0.8260288, 0.8347691, 0.8225226, 0.820171, 0.7981485, 0.84102005, 0.82163155, 0.8311931, 0.82407403, 0.81314886, 0.8305563, 0.8508262, 0.8288137, 0.83352655, 0.8296102, 0.8191082, 0.85614854, 0.82689184, 0.84201264, 0.82017076, 0.82212543, 0.8379175, 0.83275205, 0.8298748, 0.83609855, 0.8446171, 0.81586355, 0.8355479, 0.8347037, 0.8279444, 0.844032, 0.8260108, 0.82118404, 0.84334236, 0.83462614, 0.8418773, 0.81256634, 0.8410694, 0.85310626, 0.85485595, 0.84525067, 0.80824363, 0.8168409, 0.8292589, 0.8385707, 0.83210367, 0.83315504, 0.83255917, 0.8282688, 0.82847303, 0.85073686, 0.8393361, 0.8387349, 0.8291031, 0.83745915, 0.842693, 0.8206113, 0.81477404, 0.8414695, 0.8374613, 0.823939, 0.8288418, 0.8047968, 0.83513343, 0.8308046, 0.8307514, 0.8532529, 0.8178011, 0.850434, 0.83248115, 0.8016916, 0.8395539, 0.8273667, 0.84080005, 0.8588725, 0.8308673, 0.81615835, 0.8335564, 0.84676003, 0.84388626, 0.83070856, 0.82585585, 0.8191736, 0.8618344, 0.8124071, 0.82952565, 0.8055852, 0.82975143, 0.849778, 0.81807476, 0.8353416, 0.8416064, 0.7964919, 0.84328616, 0.8447484, 0.83987814, 0.8394853, 0.856787, 0.85153365, 0.83351654, 0.83182734, 0.8380573, 0.8507155, 0.8417683, 0.823601, 0.8493899, 0.8397433, 0.8407307, 0.80919766, 0.8255278, 0.83825135, 0.85767454, 0.853922, 0.83390033, 0.826784, 0.8403267, 0.8422994, 0.854849, 0.84708893, 0.8358573, 0.83786523, 0.8190796, 0.85561526, 0.81676954, 0.83329576, 0.831964, 0.8392334, 0.8277796, 0.821229, 0.83960617, 0.852897, 0.82946783, 0.83270043, 0.8197078, 0.829971, 0.8265753, 0.8227033, 0.824377, 0.836949, 0.8376472, 0.8309379, 0.8239291, 0.82992744, 0.8372072, 0.8400074, 0.82586116, 0.8441752, 0.8275267, 0.83550006, 0.8346286, 0.839526, 0.84119356, 0.817267, 0.8234301, 0.8339471, 0.8294321, 0.8339193, 0.8319215, 0.8320039, 0.83935946, 0.82367015, 0.83864504, 0.84716344, 0.7885634, 0.832583, 0.81246805, 0.7952028, 0.82698274, 0.833643, 0.82708216, 0.8233654, 0.8056213, 0.81649536, 0.81981367, 0.8313793, 0.8035328, 0.83817726, 0.81159043, 0.8241821, 0.8313709, 0.83146966, 0.83072674, 0.8287009, 0.83870673, 0.8357955, 0.8351732, 0.81085217, 0.84734535, 0.84253794, 0.8240739, 0.8304963, 0.8410106, 0.8183441, 0.845474, 0.8147419, 0.82906085, 0.82786876, 0.81031466, 0.8200731, 0.83754516, 0.8282546, 0.8371557, 0.8269716, 0.84149224, 0.85354227, 0.8308467, 0.80507195, 0.8209709, 0.79219264, 0.83744246, 0.8468371, 0.82909983, 0.8371612, 0.8335102, 0.828699, 0.8509087, 0.84857666, 0.8432425, 0.83591986, 0.83348316, 0.8291826, 0.8177487, 0.8393797, 0.855142, 0.8303362, 0.8440878, 0.8390637, 0.8292184, 0.8287124, 0.82110584, 0.8144028, 0.85274017, 0.8263903, 0.8255278, 0.8212623, 0.82819563, 0.82984763, 0.8411126, 0.8314555, 0.83562493, 0.8083381, 0.81070936, 0.85041815, 0.83333975, 0.8116751, 0.8288759, 0.83342457, 0.8218067, 0.82496834, 0.8193573, 0.83338785, 0.8456159, 0.83051556, 0.81932974, 0.83562493, 0.83933276, 0.81521726, 0.83911663, 0.8492331, 0.8258135, 0.82574445, 0.83141804, 0.8260108, 0.8199528, 0.8357936, 0.8249789, 0.82188565, 0.824095, 0.82447374, 0.8523487, 0.8131043, 0.82665074, 0.8395239, 0.85154843, 0.82383114, 0.81237745, 0.8363925, 0.85041857, 0.8219525, 0.83687365, 0.85231674, 0.8379463, 0.8294212, 0.83951795, 0.83461565, 0.8127408, 0.8329844, 0.7958464, 0.813095, 0.8173609, 0.8248523, 0.84122896, 0.8394734, 0.8389258, 0.83797896, 0.84849674, 0.8329833, 0.8332072, 0.8310973, 0.8296793, 0.7836326, 0.83702356, 0.81133795, 0.8207973, 0.83001745, 0.8223144, 0.82353425, 0.822249, 0.83120006, 0.82510346, 0.8243675, 0.8170028, 0.84145284, 0.83265364, 0.82274467, 0.8352554, 0.8226487, 0.82006043, 0.83627176, 0.831967, 0.8181879, 0.8437148, 0.83660346, 0.83598334, 0.8110082, 0.83571833, 0.84448904, 0.8290325, 0.83393, 0.82019264, 0.84344536, 0.8163604, 0.8370292, 0.8202698, 0.83682483, 0.8060068, 0.81988144, 0.8316867, 0.8289999, 0.83932537, 0.8242887, 0.8451898, 0.82494915, 0.82841176, 0.810379, 0.8478873, 0.8387211, 0.8207993, 0.82971936, 0.85079885, 0.8402108, 0.822895, 0.8198093, 0.84394556, 0.8321845, 0.8150755, 0.8243359, 0.8383176, 0.84133625, 0.83231324, 0.8445706, 0.8351576, 0.8289691, 0.83306044, 0.829699, 0.8174166, 0.8154589, 0.8243447, 0.8207302, 0.83386415, 0.79669595, 0.8341303, 0.8359849, 0.82080954, 0.8349634, 0.81707793, 0.8349147, 0.8201986, 0.83239084, 0.8241874, 0.8276388, 0.83794975, 0.8518742, 0.8311412, 0.8279221, 0.8149334, 0.81457275, 0.8300256, 0.81989723, 0.82550216, 0.8505208, 0.8421599, 0.82411206, 0.8524734, 0.83279026, 0.83072317, 0.8289548, 0.8266558, 0.84345603, 0.8395921, 0.82970655, 0.8452855, 0.83532846, 0.83647734, 0.84790534, 0.85370374, 0.8175101, 0.8225079, 0.8376075, 0.8132463, 0.83414245, 0.8174475, 0.81608105, 0.83395344, 0.8596575, 0.83751863, 0.83027565, 0.8350414, 0.8305986, 0.8084553, 0.8175712, 0.83338904, 0.83637697, 0.806689, 0.78328687, 0.8148583, 0.81499416, 0.8269993, 0.82713944, 0.85932684, 0.852802, 0.8331307, 0.8314509, 0.8266034, 0.8347516, 0.8190976, 0.8190976, 0.8151695, 0.82710576, 0.8189544, 0.83186984, 0.836887, 0.8494657, 0.8281956, 0.8156699, 0.8264038, 0.8313675, 0.83107996, 0.83107996, 0.8422405, 0.8027637, 0.83756346, 0.84533983, 0.818751]\n",
      "Movie IDS: [2086, 396, 3149, 1213, 244]\n"
     ]
    },
    {
     "data": {
      "text/plain": [
       "[2086, 396, 3149, 1213, 244]"
      ]
     },
     "execution_count": 169,
     "metadata": {},
     "output_type": "execute_result"
    }
   ],
   "source": [
    "out_idswords = words.find_best_fit_movies(\"buzz lightyear\")\n",
    "out_idswords"
   ]
  },
  {
   "cell_type": "code",
   "execution_count": 170,
   "metadata": {},
   "outputs": [
    {
     "data": {
      "text/plain": [
       "array([['Gumby: The Movie (1995)',\n",
       "        'On the brink of a big deal with mogul Lucky Claybert, Gumby and his band The Clayboys must do battle with the villainous Blockheads, who have kidnapped their loyal canine Lowbelly.'],\n",
       "       ['Fall Time (1995)',\n",
       "        'Three young men decide to plan a mock kidnapping, but everything goes wrong because a real bank robbery was already planned by two other guys.'],\n",
       "       ['GoodFellas (1990)',\n",
       "        'The true story of Henry Hill, a half-Irish, half-Sicilian Brooklyn kid who is adopted by neighbourhood gangsters at an early age and climbs the ranks of a Mafia family under the guidance of Jimmy Conway.'],\n",
       "       ['One Magic Christmas (1985)',\n",
       "        \"Ginny Grainger, a young mother, rediscovers the joy and beauty of Christmas, thanks to the unshakable faith of her six-year-old daughter Abbie and Gideon, Ginny's very own guardian angel.\"],\n",
       "       ['Diamonds (1999)',\n",
       "        'Mystery about an ex-prizefighter who embarks on a journey to find 13 missing diamonds']],\n",
       "      dtype=object)"
      ]
     },
     "execution_count": 170,
     "metadata": {},
     "output_type": "execute_result"
    }
   ],
   "source": [
    "plots[plots['movieID'].isin(out_idswords)][['title', 'overview']].values"
   ]
  }
 ],
 "metadata": {
  "kernelspec": {
   "display_name": "Python 3",
   "language": "python",
   "name": "python3"
  },
  "language_info": {
   "codemirror_mode": {
    "name": "ipython",
    "version": 3
   },
   "file_extension": ".py",
   "mimetype": "text/x-python",
   "name": "python",
   "nbconvert_exporter": "python",
   "pygments_lexer": "ipython3",
   "version": "3.11.1"
  }
 },
 "nbformat": 4,
 "nbformat_minor": 2
}
